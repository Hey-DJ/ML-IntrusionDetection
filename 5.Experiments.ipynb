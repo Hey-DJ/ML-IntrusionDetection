{
 "cells": [
  {
   "cell_type": "markdown",
   "metadata": {},
   "source": [
    "# Process ML Model"
   ]
  },
  {
   "cell_type": "markdown",
   "metadata": {},
   "source": [
    "### Load Training and Testing datasets"
   ]
  },
  {
   "cell_type": "code",
   "execution_count": 2,
   "metadata": {},
   "outputs": [
    {
     "name": "stdout",
     "output_type": "stream",
     "text": [
      "(999856, 71)\n",
      "(1499016, 71)\n"
     ]
    }
   ],
   "source": [
    "import numpy as np\n",
    "import pandas as pd\n",
    "\n",
    "#Load all training data\n",
    "X_train = pd.read_csv('Inputs\\\\train_test_sets\\\\training.csv')\n",
    "y_train = X_train.pop('Label')\n",
    "print(X_train.shape)\n",
    "\n",
    "#Load all testing data\n",
    "X_test = pd.read_csv('Inputs\\\\train_test_sets\\\\testing.csv')\n",
    "y_test = X_test.pop('Label')\n",
    "print(X_test.shape)"
   ]
  },
  {
   "cell_type": "code",
   "execution_count": 102,
   "metadata": {},
   "outputs": [
    {
     "name": "stdout",
     "output_type": "stream",
     "text": [
      "Shape of Training Set: (999856, 69)\n",
      "Shape of Testing Set: (1499016, 69)\n"
     ]
    },
    {
     "data": {
      "text/html": [
       "<style type=\"text/css\">\n",
       "</style>\n",
       "<table id=\"T_e025d\">\n",
       "  <thead>\n",
       "    <tr>\n",
       "      <th class=\"blank level0\" >&nbsp;</th>\n",
       "      <th id=\"T_e025d_level0_col0\" class=\"col_heading level0 col0\" >y_train Freq</th>\n",
       "      <th id=\"T_e025d_level0_col1\" class=\"col_heading level0 col1\" >y_train %</th>\n",
       "      <th id=\"T_e025d_level0_col2\" class=\"col_heading level0 col2\" >y_test Freq</th>\n",
       "      <th id=\"T_e025d_level0_col3\" class=\"col_heading level0 col3\" >y_test %</th>\n",
       "    </tr>\n",
       "    <tr>\n",
       "      <th class=\"index_name level0\" >Label</th>\n",
       "      <th class=\"blank col0\" >&nbsp;</th>\n",
       "      <th class=\"blank col1\" >&nbsp;</th>\n",
       "      <th class=\"blank col2\" >&nbsp;</th>\n",
       "      <th class=\"blank col3\" >&nbsp;</th>\n",
       "    </tr>\n",
       "  </thead>\n",
       "  <tbody>\n",
       "    <tr>\n",
       "      <th id=\"T_e025d_level0_row0\" class=\"row_heading level0 row0\" >DoS attacks-Hulk</th>\n",
       "      <td id=\"T_e025d_row0_col0\" class=\"data row0 col0\" >164962</td>\n",
       "      <td id=\"T_e025d_row0_col1\" class=\"data row0 col1\" >16.499%</td>\n",
       "      <td id=\"T_e025d_row0_col2\" class=\"data row0 col2\" >115478</td>\n",
       "      <td id=\"T_e025d_row0_col3\" class=\"data row0 col3\" >7.704%</td>\n",
       "    </tr>\n",
       "    <tr>\n",
       "      <th id=\"T_e025d_level0_row1\" class=\"row_heading level0 row1\" >DDOS attack-HOIC</th>\n",
       "      <td id=\"T_e025d_row1_col0\" class=\"data row1 col0\" >156456</td>\n",
       "      <td id=\"T_e025d_row1_col1\" class=\"data row1 col1\" >15.648%</td>\n",
       "      <td id=\"T_e025d_row1_col2\" class=\"data row1 col2\" >171503</td>\n",
       "      <td id=\"T_e025d_row1_col3\" class=\"data row1 col3\" >11.441%</td>\n",
       "    </tr>\n",
       "    <tr>\n",
       "      <th id=\"T_e025d_level0_row2\" class=\"row_heading level0 row2\" >DDoS attacks-LOIC-HTTP</th>\n",
       "      <td id=\"T_e025d_row2_col0\" class=\"data row2 col0\" >151250</td>\n",
       "      <td id=\"T_e025d_row2_col1\" class=\"data row2 col1\" >15.127%</td>\n",
       "      <td id=\"T_e025d_row2_col2\" class=\"data row2 col2\" >144048</td>\n",
       "      <td id=\"T_e025d_row2_col3\" class=\"data row2 col3\" >9.610%</td>\n",
       "    </tr>\n",
       "    <tr>\n",
       "      <th id=\"T_e025d_level0_row3\" class=\"row_heading level0 row3\" >Bot</th>\n",
       "      <td id=\"T_e025d_row3_col0\" class=\"data row3 col0\" >129813</td>\n",
       "      <td id=\"T_e025d_row3_col1\" class=\"data row3 col1\" >12.983%</td>\n",
       "      <td id=\"T_e025d_row3_col2\" class=\"data row3 col2\" >71548</td>\n",
       "      <td id=\"T_e025d_row3_col3\" class=\"data row3 col3\" >4.773%</td>\n",
       "    </tr>\n",
       "    <tr>\n",
       "      <th id=\"T_e025d_level0_row4\" class=\"row_heading level0 row4\" >Benign</th>\n",
       "      <td id=\"T_e025d_row4_col0\" class=\"data row4 col0\" >121965</td>\n",
       "      <td id=\"T_e025d_row4_col1\" class=\"data row4 col1\" >12.198%</td>\n",
       "      <td id=\"T_e025d_row4_col2\" class=\"data row4 col2\" >847255</td>\n",
       "      <td id=\"T_e025d_row4_col3\" class=\"data row4 col3\" >56.521%</td>\n",
       "    </tr>\n",
       "    <tr>\n",
       "      <th id=\"T_e025d_level0_row5\" class=\"row_heading level0 row5\" >Infilteration</th>\n",
       "      <td id=\"T_e025d_row5_col0\" class=\"data row5 col0\" >120476</td>\n",
       "      <td id=\"T_e025d_row5_col1\" class=\"data row5 col1\" >12.049%</td>\n",
       "      <td id=\"T_e025d_row5_col2\" class=\"data row5 col2\" >40160</td>\n",
       "      <td id=\"T_e025d_row5_col3\" class=\"data row5 col3\" >2.679%</td>\n",
       "    </tr>\n",
       "    <tr>\n",
       "      <th id=\"T_e025d_level0_row6\" class=\"row_heading level0 row6\" >SSH-Bruteforce</th>\n",
       "      <td id=\"T_e025d_row6_col0\" class=\"data row6 col0\" >84521</td>\n",
       "      <td id=\"T_e025d_row6_col1\" class=\"data row6 col1\" >8.453%</td>\n",
       "      <td id=\"T_e025d_row6_col2\" class=\"data row6 col2\" >46897</td>\n",
       "      <td id=\"T_e025d_row6_col3\" class=\"data row6 col3\" >3.129%</td>\n",
       "    </tr>\n",
       "    <tr>\n",
       "      <th id=\"T_e025d_level0_row7\" class=\"row_heading level0 row7\" >DoS attacks-GoldenEye</th>\n",
       "      <td id=\"T_e025d_row7_col0\" class=\"data row7 col0\" >31131</td>\n",
       "      <td id=\"T_e025d_row7_col1\" class=\"data row7 col1\" >3.114%</td>\n",
       "      <td id=\"T_e025d_row7_col2\" class=\"data row7 col2\" >10377</td>\n",
       "      <td id=\"T_e025d_row7_col3\" class=\"data row7 col3\" >0.692%</td>\n",
       "    </tr>\n",
       "    <tr>\n",
       "      <th id=\"T_e025d_level0_row8\" class=\"row_heading level0 row8\" >FTP-BruteForce</th>\n",
       "      <td id=\"T_e025d_row8_col0\" class=\"data row8 col0\" >29045</td>\n",
       "      <td id=\"T_e025d_row8_col1\" class=\"data row8 col1\" >2.905%</td>\n",
       "      <td id=\"T_e025d_row8_col2\" class=\"data row8 col2\" >48339</td>\n",
       "      <td id=\"T_e025d_row8_col3\" class=\"data row8 col3\" >3.225%</td>\n",
       "    </tr>\n",
       "    <tr>\n",
       "      <th id=\"T_e025d_level0_row9\" class=\"row_heading level0 row9\" >DoS attacks-Slowloris</th>\n",
       "      <td id=\"T_e025d_row9_col0\" class=\"data row9 col0\" >8243</td>\n",
       "      <td id=\"T_e025d_row9_col1\" class=\"data row9 col1\" >0.824%</td>\n",
       "      <td id=\"T_e025d_row9_col2\" class=\"data row9 col2\" >2747</td>\n",
       "      <td id=\"T_e025d_row9_col3\" class=\"data row9 col3\" >0.183%</td>\n",
       "    </tr>\n",
       "    <tr>\n",
       "      <th id=\"T_e025d_level0_row10\" class=\"row_heading level0 row10\" >DDOS attack-LOIC-UDP</th>\n",
       "      <td id=\"T_e025d_row10_col0\" class=\"data row10 col0\" >1298</td>\n",
       "      <td id=\"T_e025d_row10_col1\" class=\"data row10 col1\" >0.130%</td>\n",
       "      <td id=\"T_e025d_row10_col2\" class=\"data row10 col2\" >432</td>\n",
       "      <td id=\"T_e025d_row10_col3\" class=\"data row10 col3\" >0.029%</td>\n",
       "    </tr>\n",
       "    <tr>\n",
       "      <th id=\"T_e025d_level0_row11\" class=\"row_heading level0 row11\" >Brute Force -Web</th>\n",
       "      <td id=\"T_e025d_row11_col0\" class=\"data row11 col0\" >458</td>\n",
       "      <td id=\"T_e025d_row11_col1\" class=\"data row11 col1\" >0.046%</td>\n",
       "      <td id=\"T_e025d_row11_col2\" class=\"data row11 col2\" >153</td>\n",
       "      <td id=\"T_e025d_row11_col3\" class=\"data row11 col3\" >0.010%</td>\n",
       "    </tr>\n",
       "    <tr>\n",
       "      <th id=\"T_e025d_level0_row12\" class=\"row_heading level0 row12\" >Brute Force -XSS</th>\n",
       "      <td id=\"T_e025d_row12_col0\" class=\"data row12 col0\" >173</td>\n",
       "      <td id=\"T_e025d_row12_col1\" class=\"data row12 col1\" >0.017%</td>\n",
       "      <td id=\"T_e025d_row12_col2\" class=\"data row12 col2\" >57</td>\n",
       "      <td id=\"T_e025d_row12_col3\" class=\"data row12 col3\" >0.004%</td>\n",
       "    </tr>\n",
       "    <tr>\n",
       "      <th id=\"T_e025d_level0_row13\" class=\"row_heading level0 row13\" >SQL Injection</th>\n",
       "      <td id=\"T_e025d_row13_col0\" class=\"data row13 col0\" >65</td>\n",
       "      <td id=\"T_e025d_row13_col1\" class=\"data row13 col1\" >0.007%</td>\n",
       "      <td id=\"T_e025d_row13_col2\" class=\"data row13 col2\" >22</td>\n",
       "      <td id=\"T_e025d_row13_col3\" class=\"data row13 col3\" >0.001%</td>\n",
       "    </tr>\n",
       "  </tbody>\n",
       "</table>\n"
      ],
      "text/plain": [
       "<pandas.io.formats.style.Styler at 0x20db406e590>"
      ]
     },
     "execution_count": 102,
     "metadata": {},
     "output_type": "execute_result"
    }
   ],
   "source": [
    "print('Shape of Training Set:', X_train.shape)\n",
    "print('Shape of Testing Set:', X_test.shape)\n",
    "dist = pd.DataFrame()\n",
    "dist['y_train Freq'] = y_train.value_counts()\n",
    "dist['y_train %'] = y_train.value_counts(normalize=True)\n",
    "dist['y_test Freq'] = y_test.value_counts()\n",
    "dist['y_test %'] = y_test.value_counts(normalize=True)\n",
    "dist.style.format(\"{:.3%}\", subset=['y_train %', 'y_test %'])"
   ]
  },
  {
   "cell_type": "markdown",
   "metadata": {},
   "source": [
    "### Commence Training"
   ]
  },
  {
   "cell_type": "markdown",
   "metadata": {},
   "source": [
    "#### Training using an unbalanced dataset - Just using Class Weights on Classifier"
   ]
  },
  {
   "cell_type": "markdown",
   "metadata": {},
   "source": [
    "Note: The chosen classifier is LGBMClassifier. As this is a tree based classifier, we will not be scaling the training set data. Hence there is not much benefit in using a StandardScaler or a MaxMinScaler to normalise the data (most tree-based classifiers to not require any scaling of data). Also we will not be doing any encoding of categorical features (as we discovered towards the end of the Evaluate Models.ipynb, the only categorical features of the dataset, Protocol and Dst Port Class, are not seen as \"important\" for this classifier.\n",
    "This implies it is not work using a pipleline feature of sklearn. We will simply drop the Protocol and Dst Port Class features and simple fit the classifier.\n",
    "\n",
    "Given the dataset is higly unbalanced, we need to evaluate the impact of this and what strategies we can use to get the best out of the LightGBM classifier. First, we'll try using just class weights on the classifer"
   ]
  },
  {
   "cell_type": "code",
   "execution_count": 106,
   "metadata": {},
   "outputs": [
    {
     "data": {
      "text/plain": [
       "(999856, 71)"
      ]
     },
     "execution_count": 106,
     "metadata": {},
     "output_type": "execute_result"
    }
   ],
   "source": [
    "X_train.shape"
   ]
  },
  {
   "cell_type": "code",
   "execution_count": 107,
   "metadata": {},
   "outputs": [
    {
     "name": "stdout",
     "output_type": "stream",
     "text": [
      "\n",
      "Training Set: Size:  (999856, 69)\n",
      "Training Set: F2 score:  0.9782897110451056\n",
      "Training Set: Matthews Correlation Coefficient:  0.9765964478000423\n",
      "\n",
      "Testing Set: Size:  (1499016, 69)\n",
      "Testing Set: F2 score:  0.8818881025411921\n",
      "Testing Set: Matthews Correlation Coefficient:  0.9075697660210742\n"
     ]
    }
   ],
   "source": [
    "from sklearn.calibration import LabelEncoder\n",
    "from sklearn.preprocessing import StandardScaler, OneHotEncoder\n",
    "from sklearn.pipeline import Pipeline\n",
    "from sklearn.compose import ColumnTransformer\n",
    "from lightgbm import LGBMClassifier\n",
    "from sklearn.metrics import f1_score, fbeta_score, matthews_corrcoef\n",
    "\n",
    "#drop features that are not required\n",
    "features_to_drop = ['Protocol', 'Dst Port Class']\n",
    "X_train.drop(axis=1, columns=features_to_drop, inplace=True)\n",
    "X_test.drop(axis=1, columns=features_to_drop, inplace=True)\n",
    "\n",
    "#Encode the target classes\n",
    "labelEnc = LabelEncoder()\n",
    "y_train = pd.Series(labelEnc.fit_transform(y_train), index=y_train.index)\n",
    "y_test =  pd.Series(labelEnc.fit_transform(y_test), index=y_test.index)\n",
    "\n",
    "#define the classifier\n",
    "clf = LGBMClassifier(class_weight='balanced', objective='multiclass', n_jobs=-1, verbose=-1)\n",
    "\n",
    "#Run the pipeline\n",
    "clf.fit(X_train, y_train)\n",
    "\n",
    "#Obtain predictions on Test dataset\n",
    "pred_train = clf.predict(X_train)\n",
    "pred_test = clf.predict(X_test)\n",
    "\n",
    "#Output results\n",
    "print('\\nTraining Set: Size: ', X_train.shape)\n",
    "print('Training Set: F2 score: ', fbeta_score(y_train, pred_train, beta=2, average='macro'))\n",
    "print('Training Set: Matthews Correlation Coefficient: ', matthews_corrcoef(y_train, pred_train))\n",
    "\n",
    "print('\\nTesting Set: Size: ', X_test.shape)\n",
    "print('Testing Set: F2 score: ', fbeta_score(y_test, pred_test, beta=2, average='macro'))\n",
    "print('Testing Set: Matthews Correlation Coefficient: ', matthews_corrcoef(y_test, pred_test))"
   ]
  },
  {
   "cell_type": "code",
   "execution_count": 117,
   "metadata": {},
   "outputs": [
    {
     "name": "stdout",
     "output_type": "stream",
     "text": [
      "    precision  recall  f2-score  support\n",
      "0        1.00    0.88      0.90  847,255\n",
      "1        1.00    1.00      1.00   71,548\n",
      "2        0.13    0.95      0.42      153\n",
      "3        0.77    0.93      0.89       57\n",
      "4        1.00    1.00      1.00  171,503\n",
      "5        0.76    0.98      0.93      432\n",
      "6        1.00    1.00      1.00  144,048\n",
      "7        1.00    1.00      1.00   10,377\n",
      "8        1.00    1.00      1.00  115,478\n",
      "9        0.99    1.00      1.00    2,747\n",
      "10       1.00    1.00      1.00   48,339\n",
      "11       0.28    0.93      0.63   40,160\n",
      "12       0.26    0.82      0.57       22\n",
      "13       1.00    1.00      1.00   46,897\n",
      "\n",
      "Matthews Correlation Coefficient:  0.91\n",
      "F2 Macro score:  88.2%\n",
      "None\n"
     ]
    },
    {
     "data": {
      "image/png": "[encoded data removed]",
      "text/plain": [
       "<Figure size 1000x1000 with 2 Axes>"
      ]
     },
     "metadata": {},
     "output_type": "display_data"
    }
   ],
   "source": [
    "from sklearn.metrics import ConfusionMatrixDisplay\n",
    "from sklearn.metrics import confusion_matrix\n",
    "from CustomFunctions import classification_report_IDS\n",
    "import matplotlib.pyplot as plt\n",
    "\n",
    "#Plot the confusion matrix\n",
    "c = ConfusionMatrixDisplay(confusion_matrix(y_test, pred_test), display_labels=clf.classes_)\n",
    "fig, ax = plt.subplots(figsize=(10,10))\n",
    "c.plot(ax = ax, cmap='Blues', xticks_rotation='vertical')\n",
    "\n",
    "## Classification Report\n",
    "cReport = classification_report_IDS(y_test, pred_test)\n",
    "print(cReport)"
   ]
  },
  {
   "cell_type": "markdown",
   "metadata": {},
   "source": [
    "### Run Experiments"
   ]
  },
  {
   "cell_type": "markdown",
   "metadata": {},
   "source": [
    "#### Training after balancing dataset - RandomUnderSampler and RandomOverSampler"
   ]
  },
  {
   "cell_type": "code",
   "execution_count": 118,
   "metadata": {},
   "outputs": [
    {
     "data": {
      "text/plain": [
       "Counter({8: 164962,\n",
       "         4: 156456,\n",
       "         6: 151250,\n",
       "         1: 129813,\n",
       "         0: 121965,\n",
       "         11: 120476,\n",
       "         13: 84521,\n",
       "         7: 31131,\n",
       "         10: 29045,\n",
       "         9: 8243,\n",
       "         5: 1298,\n",
       "         2: 458,\n",
       "         3: 173,\n",
       "         12: 65})"
      ]
     },
     "execution_count": 118,
     "metadata": {},
     "output_type": "execute_result"
    }
   ],
   "source": [
    "from collections import Counter\n",
    "Counter(y_train)"
   ]
  },
  {
   "cell_type": "code",
   "execution_count": 137,
   "metadata": {},
   "outputs": [],
   "source": [
    "#Undersample with RandomUnderSampler for imbalanced dataset\n",
    "from imblearn.pipeline import Pipeline\n",
    "from imblearn.under_sampling import RandomUnderSampler\n",
    "from imblearn.over_sampling import RandomOverSampler\n",
    "\n",
    "#Define the over sampling and under sampling ratios\n",
    "dictUnderSample = {  8: 50000,\n",
    "                    4: 50000,\n",
    "                    6: 50000,\n",
    "                    1: 50000,\n",
    "                    0: 50000,\n",
    "                    11: 50000,\n",
    "                    13: 50000,\n",
    "                    7: 31131,\n",
    "                    10: 29045,\n",
    "                    9: 8243,\n",
    "                    5: 1298,\n",
    "                    2: 458,\n",
    "                    3: 173,\n",
    "                    12: 65}\n",
    "\n",
    "dictOverSample = {  8: 50000,\n",
    "                    4: 50000,\n",
    "                    6: 50000,\n",
    "                    1: 50000,\n",
    "                    0: 50000,\n",
    "                    11: 50000,\n",
    "                    13: 50000,\n",
    "                    7: 50000,\n",
    "                    10: 50000,\n",
    "                    9: 50000,\n",
    "                    5: 50000,\n",
    "                    2: 50000,\n",
    "                    3: 50000,\n",
    "                    12: 50000}\n",
    "\n",
    "pipeline = Pipeline(steps=[ ('underSample', RandomUnderSampler(random_state=0, sampling_strategy=dictUnderSample)),\n",
    "                            ('overSample', RandomOverSampler(random_state=0, sampling_strategy=dictOverSample)) ])\n",
    "\n",
    "#Run the pipeline\n",
    "X_train2, y_train2 = pipeline.fit_resample(X_train, y_train)"
   ]
  },
  {
   "cell_type": "code",
   "execution_count": 135,
   "metadata": {},
   "outputs": [
    {
     "data": {
      "text/plain": [
       "0     50000\n",
       "1     50000\n",
       "2     50000\n",
       "3     50000\n",
       "4     50000\n",
       "5     50000\n",
       "6     50000\n",
       "7     50000\n",
       "8     50000\n",
       "9     50000\n",
       "10    50000\n",
       "11    50000\n",
       "12    50000\n",
       "13    50000\n",
       "Name: count, dtype: int64"
      ]
     },
     "execution_count": 135,
     "metadata": {},
     "output_type": "execute_result"
    }
   ],
   "source": [
    "y_train2.value_counts()"
   ]
  },
  {
   "cell_type": "code",
   "execution_count": 138,
   "metadata": {},
   "outputs": [
    {
     "name": "stdout",
     "output_type": "stream",
     "text": [
      "\n",
      "Training Set: Size:  (700000, 69)\n",
      "Training Set: F2 score:  0.9858786118969656\n",
      "Training Set: Matthews Correlation Coefficient:  0.9848306331684265\n",
      "\n",
      "Testing Set: Size:  (1499016, 69)\n",
      "Testing Set: F2 score:  0.9037705527050672\n",
      "Testing Set: Matthews Correlation Coefficient:  0.9014379101484135\n"
     ]
    }
   ],
   "source": [
    "from lightgbm import LGBMClassifier\n",
    "from sklearn.metrics import f1_score, fbeta_score\n",
    "import time\n",
    "\n",
    "#define the classifier\n",
    "clf = LGBMClassifier(objective='multiclass', n_jobs=-1, verbose=-1)\n",
    "\n",
    "#Run the pipeline\n",
    "clf.fit(X_train2, y_train2)\n",
    "\n",
    "#Obtain predictions on Test dataset\n",
    "pred_train = clf.predict(X_train2)\n",
    "pred_test = clf.predict(X_test)\n",
    "\n",
    "#Output results\n",
    "print('\\nTraining Set: Size: ', X_train2.shape)\n",
    "print('Training Set: F2 score: ', fbeta_score(y_train2, pred_train, beta=2, average='macro'))\n",
    "print('Training Set: Matthews Correlation Coefficient: ', matthews_corrcoef(y_train2, pred_train))\n",
    "\n",
    "print('\\nTesting Set: Size: ', X_test.shape)\n",
    "print('Testing Set: F2 score: ', fbeta_score(y_test, pred_test, beta=2, average='macro'))\n",
    "print('Testing Set: Matthews Correlation Coefficient: ', matthews_corrcoef(y_test, pred_test))"
   ]
  },
  {
   "cell_type": "markdown",
   "metadata": {},
   "source": [
    "#### Training after balancing dataset - Nearmiss and SMOTE"
   ]
  },
  {
   "cell_type": "code",
   "execution_count": 143,
   "metadata": {},
   "outputs": [
    {
     "data": {
      "text/plain": [
       "Counter({8: 164962,\n",
       "         4: 156456,\n",
       "         6: 151250,\n",
       "         1: 129813,\n",
       "         0: 121965,\n",
       "         11: 120476,\n",
       "         13: 84521,\n",
       "         7: 31131,\n",
       "         10: 29045,\n",
       "         9: 8243,\n",
       "         5: 1298,\n",
       "         2: 458,\n",
       "         3: 173,\n",
       "         12: 65})"
      ]
     },
     "execution_count": 143,
     "metadata": {},
     "output_type": "execute_result"
    }
   ],
   "source": [
    "from collections import Counter\n",
    "Counter(y_train)"
   ]
  },
  {
   "cell_type": "code",
   "execution_count": 145,
   "metadata": {},
   "outputs": [
    {
     "data": {
      "text/plain": [
       "0     50000\n",
       "1     50000\n",
       "2     50000\n",
       "3     50000\n",
       "4     50000\n",
       "5     50000\n",
       "6     50000\n",
       "7     50000\n",
       "8     50000\n",
       "9     50000\n",
       "10    50000\n",
       "11    50000\n",
       "12    50000\n",
       "13    50000\n",
       "Name: count, dtype: int64"
      ]
     },
     "execution_count": 145,
     "metadata": {},
     "output_type": "execute_result"
    }
   ],
   "source": [
    "#Undersample with NearMiss \n",
    "from imblearn.under_sampling import NearMiss\n",
    "from imblearn.over_sampling import SMOTE\n",
    "from imblearn.pipeline import Pipeline\n",
    "\n",
    "#Undersample and the oversample\n",
    "pipeline = Pipeline(steps=[ ('underSample', NearMiss(version=2, sampling_strategy=dictUnderSample)),\n",
    "                            ('overSample', SMOTE(random_state=0, sampling_strategy=dictOverSample)) ])\n",
    "\n",
    "#Run the pipeline\n",
    "X_train2, y_train2 = pipeline.fit_resample(X_train, y_train)\n",
    "y_train2.value_counts()"
   ]
  },
  {
   "cell_type": "code",
   "execution_count": 146,
   "metadata": {},
   "outputs": [
    {
     "name": "stdout",
     "output_type": "stream",
     "text": [
      "\n",
      "Training Set: Size:  (700000, 69)\n",
      "Training Set: F2 score:  0.9851208580046416\n",
      "Training Set: Matthews Correlation Coefficient:  0.9841996432234474\n",
      "\n",
      "Testing Set: Size:  (1499016, 69)\n",
      "Testing Set: F2 score:  0.6880689797513871\n",
      "Testing Set: Matthews Correlation Coefficient:  0.7687052648540399\n"
     ]
    }
   ],
   "source": [
    "from lightgbm import LGBMClassifier\n",
    "from sklearn.metrics import f1_score, fbeta_score\n",
    "\n",
    "#define the classifier\n",
    "clf = LGBMClassifier(objective='multiclass', n_jobs=-1, verbose=-1)\n",
    "\n",
    "#Run the pipeline\n",
    "clf.fit(X_train2, y_train2)\n",
    "\n",
    "#Obtain predictions on Test dataset\n",
    "pred_train = clf.predict(X_train2)\n",
    "pred_test = clf.predict(X_test)\n",
    "\n",
    "#Output results\n",
    "print('\\nTraining Set: Size: ', X_train2.shape)\n",
    "print('Training Set: F2 score: ', fbeta_score(y_train2, pred_train, beta=2, average='macro'))\n",
    "print('Training Set: Matthews Correlation Coefficient: ', matthews_corrcoef(y_train2, pred_train))\n",
    "\n",
    "print('\\nTesting Set: Size: ', X_test.shape)\n",
    "print('Testing Set: F2 score: ', fbeta_score(y_test, pred_test, beta=2, average='macro'))\n",
    "print('Testing Set: Matthews Correlation Coefficient: ', matthews_corrcoef(y_test, pred_test))\n"
   ]
  },
  {
   "cell_type": "markdown",
   "metadata": {},
   "source": [
    "#### Training after balancing dataset - RandomUnderSampler and SMOTE"
   ]
  },
  {
   "cell_type": "code",
   "execution_count": 147,
   "metadata": {},
   "outputs": [
    {
     "data": {
      "text/plain": [
       "Counter({8: 164962,\n",
       "         4: 156456,\n",
       "         6: 151250,\n",
       "         1: 129813,\n",
       "         0: 121965,\n",
       "         11: 120476,\n",
       "         13: 84521,\n",
       "         7: 31131,\n",
       "         10: 29045,\n",
       "         9: 8243,\n",
       "         5: 1298,\n",
       "         2: 458,\n",
       "         3: 173,\n",
       "         12: 65})"
      ]
     },
     "execution_count": 147,
     "metadata": {},
     "output_type": "execute_result"
    }
   ],
   "source": [
    "from collections import Counter\n",
    "Counter(y_train)"
   ]
  },
  {
   "cell_type": "code",
   "execution_count": 148,
   "metadata": {},
   "outputs": [
    {
     "data": {
      "text/plain": [
       "0     50000\n",
       "1     50000\n",
       "2     50000\n",
       "3     50000\n",
       "4     50000\n",
       "5     50000\n",
       "6     50000\n",
       "7     50000\n",
       "8     50000\n",
       "9     50000\n",
       "10    50000\n",
       "11    50000\n",
       "12    50000\n",
       "13    50000\n",
       "Name: count, dtype: int64"
      ]
     },
     "execution_count": 148,
     "metadata": {},
     "output_type": "execute_result"
    }
   ],
   "source": [
    "#Undersample with RandomUndersampler for imbalanced dataset\n",
    "from imblearn.under_sampling import RandomUnderSampler\n",
    "from imblearn.over_sampling import SMOTE\n",
    "from imblearn.pipeline import Pipeline\n",
    "\n",
    "pipeline = Pipeline(steps=[ ('underSample', RandomUnderSampler(random_state=0, sampling_strategy=dictUnderSample)),\n",
    "                            ('overSample', SMOTE(random_state=0, sampling_strategy=dictOverSample)) ])\n",
    "\n",
    "#Run the pipeline\n",
    "X_train2, y_train2 = pipeline.fit_resample(X_train, y_train)\n",
    "y_train2.value_counts()"
   ]
  },
  {
   "cell_type": "code",
   "execution_count": 149,
   "metadata": {},
   "outputs": [
    {
     "name": "stdout",
     "output_type": "stream",
     "text": [
      "\n",
      "Training Set: Size:  (700000, 69)\n",
      "Training Set: F2_Macro score:  0.9854879107057679\n",
      "Training Set: Matthews Correlation Coefficient:  0.9844036283536937\n",
      "\n",
      "Testing Set: Size:  (1499016, 69)\n",
      "Testing Set: F2_Macro score:  0.8887335827485824\n",
      "Testing Set: Matthews Correlation Coefficient:  0.9027174066846889\n",
      "\n",
      "\n"
     ]
    }
   ],
   "source": [
    "from lightgbm import LGBMClassifier\n",
    "from sklearn.metrics import f1_score, fbeta_score, matthews_corrcoef\n",
    "from CustomFunctions import Timer\n",
    "\n",
    "#define the classifier\n",
    "clf = LGBMClassifier(objective='multiclass', n_jobs=-1, verbose=-1)\n",
    "\n",
    "#Train the classifier\n",
    "clf.fit(X_train2, y_train2)\n",
    "\n",
    "#Obtain predictions on Test dataset\n",
    "pred_train = clf.predict(X_train2)\n",
    "pred_test = clf.predict(X_test)\n",
    "\n",
    "#Output results\n",
    "print('\\nTraining Set: Size: ', X_train2.shape)\n",
    "print('Training Set: F2_Macro score: ', fbeta_score(y_train2, pred_train, beta=2, average='macro'))\n",
    "print('Training Set: Matthews Correlation Coefficient: ', matthews_corrcoef(y_train2, pred_train))\n",
    "\n",
    "print('\\nTesting Set: Size: ', X_test.shape)\n",
    "print('Testing Set: F2_Macro score: ', fbeta_score(y_test, pred_test, beta=2, average='macro'))\n",
    "print('Testing Set: Matthews Correlation Coefficient: ', matthews_corrcoef(y_test, pred_test))\n",
    "print('\\n')\n"
   ]
  },
  {
   "cell_type": "markdown",
   "metadata": {},
   "source": [
    "#### Training after balancing dataset - RandomUnderSampler and BorderlineSMOTE"
   ]
  },
  {
   "cell_type": "code",
   "execution_count": 150,
   "metadata": {},
   "outputs": [
    {
     "data": {
      "text/plain": [
       "Counter({8: 164962,\n",
       "         4: 156456,\n",
       "         6: 151250,\n",
       "         1: 129813,\n",
       "         0: 121965,\n",
       "         11: 120476,\n",
       "         13: 84521,\n",
       "         7: 31131,\n",
       "         10: 29045,\n",
       "         9: 8243,\n",
       "         5: 1298,\n",
       "         2: 458,\n",
       "         3: 173,\n",
       "         12: 65})"
      ]
     },
     "execution_count": 150,
     "metadata": {},
     "output_type": "execute_result"
    }
   ],
   "source": [
    "from collections import Counter\n",
    "Counter(y_train)"
   ]
  },
  {
   "cell_type": "code",
   "execution_count": 155,
   "metadata": {},
   "outputs": [
    {
     "data": {
      "text/plain": [
       "dict"
      ]
     },
     "execution_count": 155,
     "metadata": {},
     "output_type": "execute_result"
    }
   ],
   "source": []
  },
  {
   "cell_type": "code",
   "execution_count": 156,
   "metadata": {},
   "outputs": [
    {
     "data": {
      "text/plain": [
       "0     50000\n",
       "1     50000\n",
       "2     50000\n",
       "3     50000\n",
       "4     50000\n",
       "5     50000\n",
       "6     50000\n",
       "7     50000\n",
       "8     50000\n",
       "9     50000\n",
       "11    50000\n",
       "12    50000\n",
       "13    50000\n",
       "10    29045\n",
       "Name: count, dtype: int64"
      ]
     },
     "execution_count": 156,
     "metadata": {},
     "output_type": "execute_result"
    }
   ],
   "source": [
    "from imblearn.under_sampling import RandomUnderSampler\n",
    "from imblearn.over_sampling import BorderlineSMOTE\n",
    "from imblearn.pipeline import Pipeline\n",
    "\n",
    "#Pipeline for undersampling and then oversampling\n",
    "pipeline = Pipeline(steps=[ ('underSample', RandomUnderSampler(random_state=0, sampling_strategy=dictUnderSample)),\n",
    "                            ('overSample', BorderlineSMOTE(random_state=0, sampling_strategy=dictOverSample)) ])\n",
    "\n",
    "#Run the pipeline\n",
    "X_train2, y_train2 = pipeline.fit_resample(X_train, y_train)\n",
    "y_train2.value_counts()"
   ]
  },
  {
   "cell_type": "code",
   "execution_count": 157,
   "metadata": {},
   "outputs": [
    {
     "name": "stdout",
     "output_type": "stream",
     "text": [
      "\n",
      "Training Set: Size:  (679045, 69)\n",
      "Training Set: F2 score:  0.9822112087477219\n",
      "Training Set: Matthews Correlation Coefficient:  0.9802750522462694\n",
      "\n",
      "Testing Set: Size:  (1499016, 69)\n",
      "Testing Set: F2 score:  0.9101498165506738\n",
      "Testing Set: Matthews Correlation Coefficient:  0.9040854097498818\n",
      "\n",
      "\n"
     ]
    }
   ],
   "source": [
    "from sklearn.preprocessing import StandardScaler, OneHotEncoder\n",
    "from sklearn.pipeline import Pipeline\n",
    "from sklearn.compose import ColumnTransformer\n",
    "from lightgbm import LGBMClassifier\n",
    "from sklearn.metrics import f1_score, fbeta_score, matthews_corrcoef\n",
    "from CustomFunctions import Timer\n",
    "\n",
    "#Define the classifier\n",
    "clf = LGBMClassifier(objective='multiclass', n_jobs=-1, verbose=-1)\n",
    "\n",
    "#Run the pipeline\n",
    "clf.fit(X_train2, y_train2)\n",
    "\n",
    "#Obtain predictions on Test dataset\n",
    "pred_train = clf.predict(X_train2)\n",
    "pred_test = clf.predict(X_test)\n",
    "\n",
    "#Output results\n",
    "print('\\nTraining Set: Size: ', X_train2.shape)\n",
    "print('Training Set: F2 score: ', fbeta_score(y_train2, pred_train, beta=2, average='macro'))\n",
    "print('Training Set: Matthews Correlation Coefficient: ', matthews_corrcoef(y_train2, pred_train))\n",
    "\n",
    "print('\\nTesting Set: Size: ', X_test.shape)\n",
    "print('Testing Set: F2 score: ', fbeta_score(y_test, pred_test, beta=2, average='macro'))\n",
    "print('Testing Set: Matthews Correlation Coefficient: ', matthews_corrcoef(y_test, pred_test))\n",
    "print('\\n')\n"
   ]
  },
  {
   "cell_type": "markdown",
   "metadata": {},
   "source": [
    "#### Training after balancing dataset - NearMiss (ver1) and BorderlineSMOTE"
   ]
  },
  {
   "cell_type": "code",
   "execution_count": 158,
   "metadata": {},
   "outputs": [
    {
     "data": {
      "text/plain": [
       "Counter({8: 164962,\n",
       "         4: 156456,\n",
       "         6: 151250,\n",
       "         1: 129813,\n",
       "         0: 121965,\n",
       "         11: 120476,\n",
       "         13: 84521,\n",
       "         7: 31131,\n",
       "         10: 29045,\n",
       "         9: 8243,\n",
       "         5: 1298,\n",
       "         2: 458,\n",
       "         3: 173,\n",
       "         12: 65})"
      ]
     },
     "execution_count": 158,
     "metadata": {},
     "output_type": "execute_result"
    }
   ],
   "source": [
    "from collections import Counter\n",
    "Counter(y_train)"
   ]
  },
  {
   "cell_type": "code",
   "execution_count": 159,
   "metadata": {},
   "outputs": [
    {
     "data": {
      "text/plain": [
       "0     50000\n",
       "1     50000\n",
       "2     50000\n",
       "3     50000\n",
       "4     50000\n",
       "5     50000\n",
       "6     50000\n",
       "7     50000\n",
       "8     50000\n",
       "9     50000\n",
       "11    50000\n",
       "12    50000\n",
       "13    50000\n",
       "10    29045\n",
       "Name: count, dtype: int64"
      ]
     },
     "execution_count": 159,
     "metadata": {},
     "output_type": "execute_result"
    }
   ],
   "source": [
    "from imblearn.under_sampling import NearMiss\n",
    "from imblearn.over_sampling import BorderlineSMOTE\n",
    "from imblearn.pipeline import Pipeline\n",
    "\n",
    "#Pipeline for undersampling and then oversampling\n",
    "pipeline = Pipeline(steps=[ ('underSample', NearMiss(version=1, sampling_strategy=dictUnderSample)),\n",
    "                            ('overSample', BorderlineSMOTE(random_state=0, sampling_strategy=dictOverSample)) ])\n",
    "\n",
    "#Run the pipeline\n",
    "X_train2, y_train2 = pipeline.fit_resample(X_train, y_train)\n",
    "y_train2.value_counts()"
   ]
  },
  {
   "cell_type": "code",
   "execution_count": 162,
   "metadata": {},
   "outputs": [
    {
     "name": "stdout",
     "output_type": "stream",
     "text": [
      "\n",
      "Training Set: Size:  (679045, 69)\n",
      "Training Set: F2 score:  0.40008735326440814\n",
      "Training Set: Matthews Correlation Coefficient:  0.41343387964378053\n",
      "\n",
      "Testing Set: Size:  (1499016, 69)\n",
      "Testing Set: F2 score:  0.3110688607848441\n",
      "Testing Set: Matthews Correlation Coefficient:  0.3017623143131098\n",
      "\n",
      "\n"
     ]
    }
   ],
   "source": [
    "from lightgbm import LGBMClassifier\n",
    "from sklearn.metrics import fbeta_score, matthews_corrcoef\n",
    "\n",
    "#Define the classifier\n",
    "clf = LGBMClassifier(objective='multiclass', n_jobs=-1, verbose=-1)\n",
    "\n",
    "#Train the classifier\n",
    "clf.fit(X_train2, y_train2)\n",
    "\n",
    "#Obtain predictions on Test dataset\n",
    "pred_train = clf.predict(X_train2)\n",
    "pred_test = clf.predict(X_test)\n",
    "\n",
    "#Output results\n",
    "print('\\nTraining Set: Size: ', X_train2.shape)\n",
    "print('Training Set: F2 score: ', fbeta_score(y_train2, pred_train, beta=2, average='macro'))\n",
    "print('Training Set: Matthews Correlation Coefficient: ', matthews_corrcoef(y_train2, pred_train))\n",
    "\n",
    "print('\\nTesting Set: Size: ', X_test.shape)\n",
    "print('Testing Set: F2 score: ', fbeta_score(y_test, pred_test, beta=2, average='macro'))\n",
    "print('Testing Set: Matthews Correlation Coefficient: ', matthews_corrcoef(y_test, pred_test))\n",
    "print('\\n')\n"
   ]
  },
  {
   "cell_type": "markdown",
   "metadata": {},
   "source": [
    "#### Training after balancing dataset - NearMiss (ver2) and BorderlineSMOTE"
   ]
  },
  {
   "cell_type": "code",
   "execution_count": 163,
   "metadata": {},
   "outputs": [
    {
     "data": {
      "text/plain": [
       "Counter({8: 164962,\n",
       "         4: 156456,\n",
       "         6: 151250,\n",
       "         1: 129813,\n",
       "         0: 121965,\n",
       "         11: 120476,\n",
       "         13: 84521,\n",
       "         7: 31131,\n",
       "         10: 29045,\n",
       "         9: 8243,\n",
       "         5: 1298,\n",
       "         2: 458,\n",
       "         3: 173,\n",
       "         12: 65})"
      ]
     },
     "execution_count": 163,
     "metadata": {},
     "output_type": "execute_result"
    }
   ],
   "source": [
    "from collections import Counter\n",
    "Counter(y_train)"
   ]
  },
  {
   "cell_type": "code",
   "execution_count": 164,
   "metadata": {},
   "outputs": [
    {
     "data": {
      "text/plain": [
       "0     50000\n",
       "1     50000\n",
       "2     50000\n",
       "3     50000\n",
       "4     50000\n",
       "5     50000\n",
       "6     50000\n",
       "7     50000\n",
       "8     50000\n",
       "9     50000\n",
       "11    50000\n",
       "12    50000\n",
       "13    50000\n",
       "10    29045\n",
       "Name: count, dtype: int64"
      ]
     },
     "execution_count": 164,
     "metadata": {},
     "output_type": "execute_result"
    }
   ],
   "source": [
    "from imblearn.under_sampling import NearMiss\n",
    "from imblearn.over_sampling import BorderlineSMOTE\n",
    "from imblearn.pipeline import Pipeline\n",
    "\n",
    "#Pipeline for undersampling and then oversampling\n",
    "pipeline = Pipeline(steps=[ ('underSample', NearMiss(version=2, sampling_strategy=dictUnderSample)),\n",
    "                            ('overSample', BorderlineSMOTE(random_state=0, sampling_strategy=dictOverSample)) ])\n",
    "\n",
    "#Run the pipeline\n",
    "X_train2, y_train2 = pipeline.fit_resample(X_train, y_train)\n",
    "y_train2.value_counts()"
   ]
  },
  {
   "cell_type": "code",
   "execution_count": 165,
   "metadata": {},
   "outputs": [
    {
     "name": "stdout",
     "output_type": "stream",
     "text": [
      "\n",
      "Training Set: Size:  (679045, 69)\n",
      "Training Set: F2 score:  0.9823469575821839\n",
      "Training Set: Matthews Correlation Coefficient:  0.9806460073280666\n",
      "\n",
      "Testing Set: Size:  (1499016, 69)\n",
      "Testing Set: F2 score:  0.6041997539547443\n",
      "Testing Set: Matthews Correlation Coefficient:  0.6309059927393734\n",
      "\n",
      "\n"
     ]
    }
   ],
   "source": [
    "from lightgbm import LGBMClassifier\n",
    "from sklearn.metrics import fbeta_score, matthews_corrcoef\n",
    "\n",
    "#Define the classifier\n",
    "clf = LGBMClassifier(objective='multiclass', n_jobs=-1, verbose=-1)\n",
    "\n",
    "#Run the pipeline\n",
    "clf.fit(X_train2, y_train2)\n",
    "\n",
    "#Obtain predictions on Test dataset\n",
    "pred_train = clf.predict(X_train2)\n",
    "pred_test = clf.predict(X_test)\n",
    "\n",
    "#Output results\n",
    "print('\\nTraining Set: Size: ', X_train2.shape)\n",
    "print('Training Set: F2 score: ', fbeta_score(y_train2, pred_train, beta=2, average='macro'))\n",
    "print('Training Set: Matthews Correlation Coefficient: ', matthews_corrcoef(y_train2, pred_train))\n",
    "\n",
    "print('\\nTesting Set: Size: ', X_test.shape)\n",
    "print('Testing Set: F2 score: ', fbeta_score(y_test, pred_test, beta=2, average='macro'))\n",
    "print('Testing Set: Matthews Correlation Coefficient: ', matthews_corrcoef(y_test, pred_test))\n",
    "print('\\n')\n"
   ]
  },
  {
   "cell_type": "markdown",
   "metadata": {},
   "source": [
    "#### Training after partially balancing dataset - RandomUnderSampler and Class Weights on classifier"
   ]
  },
  {
   "cell_type": "code",
   "execution_count": 166,
   "metadata": {},
   "outputs": [
    {
     "data": {
      "text/plain": [
       "Counter({8: 164962,\n",
       "         4: 156456,\n",
       "         6: 151250,\n",
       "         1: 129813,\n",
       "         0: 121965,\n",
       "         11: 120476,\n",
       "         13: 84521,\n",
       "         7: 31131,\n",
       "         10: 29045,\n",
       "         9: 8243,\n",
       "         5: 1298,\n",
       "         2: 458,\n",
       "         3: 173,\n",
       "         12: 65})"
      ]
     },
     "execution_count": 166,
     "metadata": {},
     "output_type": "execute_result"
    }
   ],
   "source": [
    "from collections import Counter\n",
    "Counter(y_train)"
   ]
  },
  {
   "cell_type": "code",
   "execution_count": 168,
   "metadata": {},
   "outputs": [
    {
     "data": {
      "text/plain": [
       "0     50000\n",
       "1     50000\n",
       "4     50000\n",
       "6     50000\n",
       "8     50000\n",
       "11    50000\n",
       "13    50000\n",
       "7     31131\n",
       "10    29045\n",
       "9      8243\n",
       "5      1298\n",
       "2       458\n",
       "3       173\n",
       "12       65\n",
       "Name: count, dtype: int64"
      ]
     },
     "execution_count": 168,
     "metadata": {},
     "output_type": "execute_result"
    }
   ],
   "source": [
    "#Undersample with RandomUnderSampler \n",
    "from imblearn.under_sampling import RandomUnderSampler\n",
    "\n",
    "pipeline = Pipeline(steps=[ ('underSample', RandomUnderSampler(random_state=0, sampling_strategy=dictUnderSample))])\n",
    "\n",
    "#Run the pipeline\n",
    "X_train2, y_train2 = pipeline.fit_resample(X_train, y_train)\n",
    "y_train2.value_counts()"
   ]
  },
  {
   "cell_type": "code",
   "execution_count": 169,
   "metadata": {},
   "outputs": [
    {
     "name": "stdout",
     "output_type": "stream",
     "text": [
      "\n",
      "Training Set: Size:  (420413, 69)\n",
      "Training Set: F2 score:  0.9826005663535602\n",
      "Training Set: Matthews Correlation Coefficient:  0.9778416678992875\n",
      "\n",
      "Testing Set: Size:  (1499016, 69)\n",
      "Testing Set: F2 score:  0.8753346371742315\n",
      "Testing Set: Matthews Correlation Coefficient:  0.9064857136042759\n",
      "\n",
      "\n"
     ]
    }
   ],
   "source": [
    "from sklearn.preprocessing import StandardScaler, OneHotEncoder\n",
    "from sklearn.pipeline import Pipeline\n",
    "from sklearn.compose import ColumnTransformer\n",
    "from lightgbm import LGBMClassifier\n",
    "from sklearn.metrics import f1_score, fbeta_score, matthews_corrcoef\n",
    "from CustomFunctions import Timer\n",
    "\n",
    "#Define the classifier\n",
    "clf = LGBMClassifier(objective='multiclass', class_weight='balanced', n_jobs=-1, verbose=-1)\n",
    " \n",
    "#Run the pipeline\n",
    "clf.fit(X_train2, y_train2)\n",
    "\n",
    "#Obtain predictions on Test dataset\n",
    "pred_train = clf.predict(X_train2)\n",
    "pred_test = clf.predict(X_test)\n",
    "\n",
    "#Output results\n",
    "print('\\nTraining Set: Size: ', X_train2.shape)\n",
    "print('Training Set: F2 score: ', fbeta_score(y_train2, pred_train, beta=2, average='macro'))\n",
    "print('Training Set: Matthews Correlation Coefficient: ', matthews_corrcoef(y_train2, pred_train))\n",
    "\n",
    "print('\\nTesting Set: Size: ', X_test.shape)\n",
    "print('Testing Set: F2 score: ', fbeta_score(y_test, pred_test, beta=2, average='macro'))\n",
    "print('Testing Set: Matthews Correlation Coefficient: ', matthews_corrcoef(y_test, pred_test))\n",
    "print('\\n')\n"
   ]
  },
  {
   "cell_type": "markdown",
   "metadata": {},
   "source": [
    "#### Preliminary Pricipal Component Analysis"
   ]
  },
  {
   "cell_type": "code",
   "execution_count": 1,
   "metadata": {},
   "outputs": [
    {
     "ename": "NameError",
     "evalue": "name 'y_train' is not defined",
     "output_type": "error",
     "traceback": [
      "\u001b[1;31m---------------------------------------------------------------------------\u001b[0m",
      "\u001b[1;31mNameError\u001b[0m                                 Traceback (most recent call last)",
      "Cell \u001b[1;32mIn[1], line 2\u001b[0m\n\u001b[0;32m      1\u001b[0m \u001b[38;5;28;01mfrom\u001b[39;00m \u001b[38;5;21;01mcollections\u001b[39;00m \u001b[38;5;28;01mimport\u001b[39;00m Counter\n\u001b[1;32m----> 2\u001b[0m Counter(y_train)\n",
      "\u001b[1;31mNameError\u001b[0m: name 'y_train' is not defined"
     ]
    }
   ],
   "source": [
    "from collections import Counter\n",
    "Counter(y_train)"
   ]
  },
  {
   "cell_type": "code",
   "execution_count": 68,
   "metadata": {},
   "outputs": [
    {
     "data": {
      "text/plain": [
       "Label\n",
       "Benign                    50000\n",
       "Bot                       50000\n",
       "DDOS attack-HOIC          50000\n",
       "DDoS attacks-LOIC-HTTP    50000\n",
       "DoS attacks-Hulk          50000\n",
       "Infilteration             50000\n",
       "SSH-Bruteforce            50000\n",
       "DoS attacks-GoldenEye     31131\n",
       "FTP-BruteForce            29041\n",
       "DoS attacks-Slowloris      8242\n",
       "DDOS attack-LOIC-UDP       1298\n",
       "Brute Force -Web            458\n",
       "Brute Force -XSS            173\n",
       "SQL Injection                65\n",
       "Name: count, dtype: int64"
      ]
     },
     "execution_count": 68,
     "metadata": {},
     "output_type": "execute_result"
    }
   ],
   "source": [
    "#Undersample with RandomUnderSampler \n",
    "from imblearn.under_sampling import RandomUnderSampler\n",
    "from collections import Counter\n",
    "from sklearn.datasets import make_classification\n",
    "requiredCounts = {  'DoS attacks-Hulk': 50000,\n",
    "                    'DDOS attack-HOIC': 50000,\n",
    "                    'DDoS attacks-LOIC-HTTP': 50000,\n",
    "                    'Bot': 50000,\n",
    "                    'Benign': 50000,\n",
    "                    'Infilteration': 50000,\n",
    "                    'SSH-Bruteforce': 50000,\n",
    "                    'DoS attacks-GoldenEye': 31131,\n",
    "                    'FTP-BruteForce': 29041,\n",
    "                    'DoS attacks-Slowloris': 8242,\n",
    "                    'DDOS attack-LOIC-UDP': 1298,\n",
    "                    'Brute Force -Web': 458,\n",
    "                    'Brute Force -XSS': 173,\n",
    "                    'SQL Injection': 65}\n",
    "underSampling = RandomUnderSampler(random_state=0, sampling_strategy=requiredCounts)\n",
    "\n",
    "# transform the dataset\n",
    "X_train2, y_train2 = underSampling.fit_resample(X_train, y_train)\n",
    "y_train2.value_counts()"
   ]
  },
  {
   "cell_type": "code",
   "execution_count": 69,
   "metadata": {},
   "outputs": [
    {
     "data": {
      "text/plain": [
       "Label\n",
       "Benign                    50000\n",
       "Bot                       50000\n",
       "Brute Force -Web          50000\n",
       "Brute Force -XSS          50000\n",
       "DDOS attack-HOIC          50000\n",
       "DDOS attack-LOIC-UDP      50000\n",
       "DDoS attacks-LOIC-HTTP    50000\n",
       "DoS attacks-GoldenEye     50000\n",
       "DoS attacks-Hulk          50000\n",
       "DoS attacks-Slowloris     50000\n",
       "FTP-BruteForce            50000\n",
       "Infilteration             50000\n",
       "SQL Injection             50000\n",
       "SSH-Bruteforce            50000\n",
       "Name: count, dtype: int64"
      ]
     },
     "execution_count": 69,
     "metadata": {},
     "output_type": "execute_result"
    }
   ],
   "source": [
    "from imblearn.over_sampling import RandomOverSampler\n",
    "\n",
    "requiredCounts = {  'DoS attacks-Hulk': 50000,\n",
    "                    'DDOS attack-HOIC': 50000,\n",
    "                    'DDoS attacks-LOIC-HTTP': 50000,\n",
    "                    'Bot': 50000,\n",
    "                    'Benign': 50000,\n",
    "                    'Infilteration': 50000,\n",
    "                    'SSH-Bruteforce': 50000,\n",
    "                    'DoS attacks-GoldenEye': 50000,\n",
    "                    'FTP-BruteForce': 50000,\n",
    "                    'DoS attacks-Slowloris': 50000,\n",
    "                    'DDOS attack-LOIC-UDP': 50000,\n",
    "                    'Brute Force -Web': 50000,\n",
    "                    'Brute Force -XSS': 50000,\n",
    "                    'SQL Injection': 50000}\n",
    "\n",
    "overSampling = RandomOverSampler(sampling_strategy=requiredCounts)\n",
    "X_train2, y_train2 = overSampling.fit_resample(X_train2, y_train2)\n",
    "y_train2.value_counts()"
   ]
  },
  {
   "cell_type": "code",
   "execution_count": 76,
   "metadata": {},
   "outputs": [
    {
     "name": "stdout",
     "output_type": "stream",
     "text": [
      "Number of features before PCA:  69\n",
      "Number of components after PCA:  27\n",
      "\n",
      "Training Set: Size:  (700000, 69)\n",
      "Training Set: F2 score:  0.9811908227708306\n",
      "Training Set: Matthews Correlation Coefficient:  0.9797585474643796\n",
      "\n",
      "Testing Set: Size:  (1499016, 69)\n",
      "Testing Set: F2 score:  0.8743348378381904\n",
      "Testing Set: Matthews Correlation Coefficient:  0.8831369885423536\n",
      "\n",
      "\n"
     ]
    }
   ],
   "source": [
    "from sklearn.preprocessing import StandardScaler, OneHotEncoder\n",
    "from sklearn.pipeline import Pipeline\n",
    "from sklearn.compose import ColumnTransformer\n",
    "from lightgbm import LGBMClassifier\n",
    "from sklearn.metrics import f1_score, fbeta_score, matthews_corrcoef\n",
    "from CustomFunctions import Timer\n",
    "from sklearn.decomposition import PCA\n",
    "\n",
    "#define pipeline\n",
    "workflowPipe = Pipeline(steps=[\n",
    "                            ('scale',  StandardScaler()),\n",
    "                            ('pca', PCA(0.99)),\n",
    "                            ('classifier', LGBMClassifier(objective='multiclass', n_jobs=-1, verbose=-1))\n",
    "                        ])\n",
    "\n",
    "#Run the pipeline\n",
    "workflowPipe.fit(X_train2, y_train2)\n",
    "\n",
    "#Obtain predictions on Test dataset\n",
    "pred_train = workflowPipe.predict(X_train2)\n",
    "pred_test = workflowPipe.predict(X_test)\n",
    "\n",
    "#Output results\n",
    "print('Number of features before PCA: ', len(X_train2.columns))\n",
    "print('Number of components after PCA: ', workflowPipe['pca'].n_components_)\n",
    "print('\\nTraining Set: Size: ', X_train2.shape)\n",
    "print('Training Set: F2 score: ', fbeta_score(y_train2, pred_train, beta=2, average='macro'))\n",
    "print('Training Set: Matthews Correlation Coefficient: ', matthews_corrcoef(y_train2, pred_train))\n",
    "\n",
    "print('\\nTesting Set: Size: ', X_test.shape)\n",
    "print('Testing Set: F2 score: ', fbeta_score(y_test, pred_test, beta=2, average='macro'))\n",
    "print('Testing Set: Matthews Correlation Coefficient: ', matthews_corrcoef(y_test, pred_test))\n",
    "print('\\n')\n"
   ]
  },
  {
   "cell_type": "code",
   "execution_count": 77,
   "metadata": {},
   "outputs": [
    {
     "name": "stdout",
     "output_type": "stream",
     "text": [
      "Number of features before PCA:  69\n",
      "Number of components after PCA:  16\n",
      "\n",
      "Training Set: Size:  (700000, 69)\n",
      "Training Set: F2 score:  0.9774067116127905\n",
      "Training Set: Matthews Correlation Coefficient:  0.9756907003845612\n",
      "\n",
      "Testing Set: Size:  (1499016, 69)\n",
      "Testing Set: F2 score:  0.8517773634435407\n",
      "Testing Set: Matthews Correlation Coefficient:  0.8820157229957106\n",
      "\n",
      "\n"
     ]
    }
   ],
   "source": [
    "from sklearn.preprocessing import StandardScaler, OneHotEncoder\n",
    "from sklearn.pipeline import Pipeline\n",
    "from sklearn.compose import ColumnTransformer\n",
    "from lightgbm import LGBMClassifier\n",
    "from sklearn.metrics import f1_score, fbeta_score, matthews_corrcoef\n",
    "from CustomFunctions import Timer\n",
    "from sklearn.decomposition import PCA\n",
    "\n",
    "#define pipeline\n",
    "workflowPipe = Pipeline(steps=[\n",
    "                            ('scale',  StandardScaler()),\n",
    "                            ('pca', PCA(0.90)),\n",
    "                            ('classifier', LGBMClassifier(objective='multiclass', n_jobs=-1, verbose=-1))\n",
    "                        ])\n",
    "\n",
    "#Run the pipeline\n",
    "workflowPipe.fit(X_train2, y_train2)\n",
    "\n",
    "#Obtain predictions on Test dataset\n",
    "pred_train = workflowPipe.predict(X_train2)\n",
    "pred_test = workflowPipe.predict(X_test)\n",
    "\n",
    "#Output results\n",
    "print('Number of features before PCA: ', len(X_train2.columns))\n",
    "print('Number of components after PCA: ', workflowPipe['pca'].n_components_)\n",
    "print('\\nTraining Set: Size: ', X_train2.shape)\n",
    "print('Training Set: F2 score: ', fbeta_score(y_train2, pred_train, beta=2, average='macro'))\n",
    "print('Training Set: Matthews Correlation Coefficient: ', matthews_corrcoef(y_train2, pred_train))\n",
    "\n",
    "print('\\nTesting Set: Size: ', X_test.shape)\n",
    "print('Testing Set: F2 score: ', fbeta_score(y_test, pred_test, beta=2, average='macro'))\n",
    "print('Testing Set: Matthews Correlation Coefficient: ', matthews_corrcoef(y_test, pred_test))\n",
    "print('\\n')\n"
   ]
  }
 ],
 "metadata": {
  "kernelspec": {
   "display_name": "base",
   "language": "python",
   "name": "python3"
  },
  "language_info": {
   "codemirror_mode": {
    "name": "ipython",
    "version": 3
   },
   "file_extension": ".py",
   "mimetype": "text/x-python",
   "name": "python",
   "nbconvert_exporter": "python",
   "pygments_lexer": "ipython3",
   "version": "3.11.5"
  }
 },
 "nbformat": 4,
 "nbformat_minor": 2
}
