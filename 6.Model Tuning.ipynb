{
 "cells": [
  {
   "cell_type": "markdown",
   "metadata": {},
   "source": [
    "### Prepare the Training Set"
   ]
  },
  {
   "cell_type": "code",
   "execution_count": 17,
   "metadata": {},
   "outputs": [
    {
     "name": "stdout",
     "output_type": "stream",
     "text": [
      "(999856, 71)\n"
     ]
    }
   ],
   "source": [
    "import numpy as np\n",
    "import pandas as pd\n",
    "\n",
    "#Load all training data\n",
    "X_train = pd.read_csv('Inputs\\\\train_test_sets\\\\training.csv')\n",
    "y_train = X_train.pop('Label')\n",
    "print(X_train.shape)"
   ]
  },
  {
   "cell_type": "code",
   "execution_count": 19,
   "metadata": {},
   "outputs": [],
   "source": [
    "from sklearn.calibration import LabelEncoder\n",
    "\n",
    "#drop features that are not required\n",
    "features_to_drop = ['Protocol', 'Dst Port Class']\n",
    "X_train.drop(axis=1, columns=features_to_drop, inplace=True)\n",
    "\n",
    "#Encode the target classes\n",
    "labelEnc = LabelEncoder()\n",
    "y_train = pd.Series(labelEnc.fit_transform(y_train), index=y_train.index)\n"
   ]
  },
  {
   "cell_type": "code",
   "execution_count": 20,
   "metadata": {},
   "outputs": [
    {
     "data": {
      "text/plain": [
       "Counter({8: 164962,\n",
       "         4: 156456,\n",
       "         6: 151250,\n",
       "         1: 129813,\n",
       "         0: 121965,\n",
       "         11: 120476,\n",
       "         13: 84521,\n",
       "         7: 31131,\n",
       "         10: 29045,\n",
       "         9: 8243,\n",
       "         5: 1298,\n",
       "         2: 458,\n",
       "         3: 173,\n",
       "         12: 65})"
      ]
     },
     "execution_count": 20,
     "metadata": {},
     "output_type": "execute_result"
    }
   ],
   "source": [
    "from collections import Counter\n",
    "Counter(y_train)"
   ]
  },
  {
   "cell_type": "code",
   "execution_count": 35,
   "metadata": {},
   "outputs": [
    {
     "name": "stdout",
     "output_type": "stream",
     "text": [
      "809045\n"
     ]
    },
    {
     "data": {
      "text/plain": [
       "0     60000\n",
       "1     60000\n",
       "2     60000\n",
       "3     60000\n",
       "4     60000\n",
       "5     60000\n",
       "6     60000\n",
       "7     60000\n",
       "8     60000\n",
       "9     60000\n",
       "11    60000\n",
       "12    60000\n",
       "13    60000\n",
       "10    29045\n",
       "Name: count, dtype: int64"
      ]
     },
     "execution_count": 35,
     "metadata": {},
     "output_type": "execute_result"
    }
   ],
   "source": [
    "from imblearn.under_sampling import RandomUnderSampler\n",
    "from imblearn.over_sampling import BorderlineSMOTE\n",
    "from imblearn.pipeline import Pipeline\n",
    "\n",
    "#Define the over sampling and under sampling dictionaries\n",
    "dictUnderSample = {  8: 60000,\n",
    "                    4: 60000,\n",
    "                    6: 60000,\n",
    "                    1: 60000,\n",
    "                    0: 60000,\n",
    "                    11: 60000,\n",
    "                    13: 60000,\n",
    "                    7: 31131,\n",
    "                    10: 29045,\n",
    "                    9: 8243,\n",
    "                    5: 1298,\n",
    "                    2: 458,\n",
    "                    3: 173,\n",
    "                    12: 65}\n",
    "\n",
    "dictOverSample = {  8: 60000,\n",
    "                    4: 60000,\n",
    "                    6: 60000,\n",
    "                    1: 60000,\n",
    "                    0: 60000,\n",
    "                    11: 60000,\n",
    "                    13: 60000,\n",
    "                    7: 60000,\n",
    "                    10: 60000,\n",
    "                    9: 60000,\n",
    "                    5: 60000,\n",
    "                    2: 60000,\n",
    "                    3: 60000,\n",
    "                    12: 60000}\n",
    "\n",
    "#Pipeline for undersampling and then oversampling\n",
    "pipeline = Pipeline(steps=[ ('underSample', RandomUnderSampler(random_state=0, sampling_strategy=dictUnderSample)),\n",
    "                            ('overSample', BorderlineSMOTE(random_state=0, sampling_strategy=dictOverSample)) ])\n",
    "\n",
    "#Run the pipeline\n",
    "X_train2, y_train2 = pipeline.fit_resample(X_train, y_train)\n",
    "print(len(X_train2))\n",
    "y_train2.value_counts()"
   ]
  },
  {
   "cell_type": "code",
   "execution_count": 22,
   "metadata": {},
   "outputs": [
    {
     "name": "stderr",
     "output_type": "stream",
     "text": [
      "[I 2024-01-14 19:39:12,027] A new study created in memory with name: Hyperparameter Tuning\n",
      "[I 2024-01-14 19:41:17,018] Trial 0 finished with value: 0.049480804075323945 and parameters: {'n_estimators': 150, 'learning_rate': 0.2998252949677568, 'max_depth': 8, 'max_bin': 200, 'boosting_type': 'dart'}. Best is trial 0 with value: 0.049480804075323945.\n",
      "[I 2024-01-14 19:47:15,878] Trial 1 finished with value: 0.7561607855291003 and parameters: {'n_estimators': 250, 'learning_rate': 0.2738660748949303, 'max_depth': 7, 'max_bin': 50, 'boosting_type': 'dart'}. Best is trial 1 with value: 0.7561607855291003.\n",
      "[I 2024-01-14 19:50:32,020] Trial 2 finished with value: 0.9791263896374838 and parameters: {'n_estimators': 150, 'learning_rate': 0.11856905648331888, 'max_depth': 5, 'max_bin': 200, 'boosting_type': 'dart'}. Best is trial 2 with value: 0.9791263896374838.\n",
      "[I 2024-01-14 19:50:57,351] Trial 3 finished with value: 0.8367358490568826 and parameters: {'n_estimators': 50, 'learning_rate': 0.2905662462369787, 'max_depth': 5, 'max_bin': 50, 'boosting_type': 'gbdt'}. Best is trial 2 with value: 0.9791263896374838.\n",
      "[I 2024-01-14 19:54:20,915] Trial 4 finished with value: 0.979809336587408 and parameters: {'n_estimators': 150, 'learning_rate': 0.06581286845662779, 'max_depth': 11, 'max_bin': 400, 'boosting_type': 'dart'}. Best is trial 4 with value: 0.979809336587408.\n"
     ]
    },
    {
     "name": "stdout",
     "output_type": "stream",
     "text": [
      "Best F2-macro score (mean):  0.979809336587408\n",
      "Best Params: \n",
      "  n_estimators: 150\n",
      "  learning_rate: 0.06581286845662779\n",
      "  max_depth: 11\n",
      "  max_bin: 400\n",
      "  boosting_type: dart\n"
     ]
    }
   ],
   "source": [
    "from lightgbm import LGBMClassifier\n",
    "import optuna\n",
    "from sklearn.model_selection import cross_val_score\n",
    "from sklearn.model_selection import GridSearchCV\n",
    "from sklearn.metrics import make_scorer, fbeta_score\n",
    "from sklearn.model_selection import StratifiedKFold\n",
    "\n",
    "#Use GridSearch cross-validation to find optimum parameters\n",
    "cv = StratifiedKFold(n_splits=4, shuffle=True)\n",
    "f2_scorer = make_scorer(fbeta_score, beta=2, average='macro')\n",
    "\n",
    "#Define Optune objective method\n",
    "def objective(trial, X, y, cv, scoring):\n",
    "    param_grid = {\n",
    "        \"n_estimators\": trial.suggest_int(\"n_estimators\", 50, 350, step=100),\n",
    "        \"learning_rate\": trial.suggest_float(\"learning_rate\", 0.03, 0.3),\n",
    "        #\"num_leaves\": trial.suggest_int(\"num_leaves\", 50, 3000, step=50),\n",
    "        \"max_depth\": trial.suggest_int(\"max_depth\", 3, 12),\n",
    "        \"max_bin\": trial.suggest_int(\"max_bin\", 50, 450, step=50),\n",
    "        \"boosting_type\": trial.suggest_categorical('boosting_type', ['gbdt', 'dart']),\n",
    "        # \"min_data_in_leaf\": trial.suggest_int(\"min_data_in_leaf\", 200, 10000, step=100),\n",
    "        # \"max_bin\": trial.suggest_int(\"max_bin\", 200, 300),\n",
    "        # \"lambda_l1\": trial.suggest_int(\"lambda_l1\", 0, 100, step=5),\n",
    "        # \"lambda_l2\": trial.suggest_int(\"lambda_l2\", 0, 100, step=5),\n",
    "        # \"min_gain_to_split\": trial.suggest_float(\"min_gain_to_split\", 0, 15),\n",
    "        # \"bagging_fraction\": trial.suggest_float(\"bagging_fraction\", 0.2, 0.95, step=0.1),\n",
    "        # \"bagging_freq\": trial.suggest_categorical(\"bagging_freq\", [1]),\n",
    "        # \"feature_fraction\": trial.suggest_float(\"feature_fraction\", 0.2, 0.95, step=0.1)\n",
    "        \"objective\": 'multiclass', \n",
    "        \"verbose\": -1\n",
    "        #\"random_state\": 0\n",
    "    }\n",
    "\n",
    "    clf = LGBMClassifier(**param_grid)\n",
    "    cv_scores = cross_val_score(clf, X, y, cv=cv, scoring=scoring, n_jobs=5)\n",
    "    return cv_scores.mean()\n",
    "\n",
    "#Initialise the Optuna study\n",
    "study = optuna.create_study(direction=\"maximize\", study_name='Hyperparameter Tuning')       #We want to maximise the F2 scores\n",
    "\n",
    "#Optimization with several trials\n",
    "func = lambda trial: objective(trial, X_train2, y_train2, cv=cv, scoring=f2_scorer)\n",
    "study.optimize(func, n_trials=5)\n",
    "\n",
    "#Output results\n",
    "trial = study.best_trial\n",
    "print(\"Best F2-macro score (mean): \", trial.value)\n",
    "print(\"Best Params: \")\n",
    "for key, value in trial.params.items():\n",
    "    print(\"  {}: {}\".format(key, value))\n"
   ]
  },
  {
   "cell_type": "code",
   "execution_count": 23,
   "metadata": {},
   "outputs": [
    {
     "data": {
      "application/vnd.plotly.v1+json": {
       "config": {
        "plotlyServerURL": "https://plot.ly"
       },
       "data": [
        {
         "cliponaxis": false,
         "hovertemplate": [
          "boosting_type (CategoricalDistribution): 0.05127591650232134<extra></extra>",
          "n_estimators (IntDistribution): 0.05674772309392372<extra></extra>",
          "max_bin (IntDistribution): 0.14867452498063008<extra></extra>",
          "max_depth (IntDistribution): 0.2218452321961113<extra></extra>",
          "learning_rate (FloatDistribution): 0.5214566032270136<extra></extra>"
         ],
         "name": "Objective Value",
         "orientation": "h",
         "text": [
          "0.05",
          "0.06",
          "0.15",
          "0.22",
          "0.52"
         ],
         "textposition": "outside",
         "type": "bar",
         "x": [
          0.05127591650232134,
          0.05674772309392372,
          0.14867452498063008,
          0.2218452321961113,
          0.5214566032270136
         ],
         "y": [
          "boosting_type",
          "n_estimators",
          "max_bin",
          "max_depth",
          "learning_rate"
         ]
        }
       ],
       "layout": {
        "template": {
         "data": {
          "bar": [
           {
            "error_x": {
             "color": "#2a3f5f"
            },
            "error_y": {
             "color": "#2a3f5f"
            },
            "marker": {
             "line": {
              "color": "#E5ECF6",
              "width": 0.5
             },
             "pattern": {
              "fillmode": "overlay",
              "size": 10,
              "solidity": 0.2
             }
            },
            "type": "bar"
           }
          ],
          "barpolar": [
           {
            "marker": {
             "line": {
              "color": "#E5ECF6",
              "width": 0.5
             },
             "pattern": {
              "fillmode": "overlay",
              "size": 10,
              "solidity": 0.2
             }
            },
            "type": "barpolar"
           }
          ],
          "carpet": [
           {
            "aaxis": {
             "endlinecolor": "#2a3f5f",
             "gridcolor": "white",
             "linecolor": "white",
             "minorgridcolor": "white",
             "startlinecolor": "#2a3f5f"
            },
            "baxis": {
             "endlinecolor": "#2a3f5f",
             "gridcolor": "white",
             "linecolor": "white",
             "minorgridcolor": "white",
             "startlinecolor": "#2a3f5f"
            },
            "type": "carpet"
           }
          ],
          "choropleth": [
           {
            "colorbar": {
             "outlinewidth": 0,
             "ticks": ""
            },
            "type": "choropleth"
           }
          ],
          "contour": [
           {
            "colorbar": {
             "outlinewidth": 0,
             "ticks": ""
            },
            "colorscale": [
             [
              0,
              "#0d0887"
             ],
             [
              0.1111111111111111,
              "#46039f"
             ],
             [
              0.2222222222222222,
              "#7201a8"
             ],
             [
              0.3333333333333333,
              "#9c179e"
             ],
             [
              0.4444444444444444,
              "#bd3786"
             ],
             [
              0.5555555555555556,
              "#d8576b"
             ],
             [
              0.6666666666666666,
              "#ed7953"
             ],
             [
              0.7777777777777778,
              "#fb9f3a"
             ],
             [
              0.8888888888888888,
              "#fdca26"
             ],
             [
              1,
              "#f0f921"
             ]
            ],
            "type": "contour"
           }
          ],
          "contourcarpet": [
           {
            "colorbar": {
             "outlinewidth": 0,
             "ticks": ""
            },
            "type": "contourcarpet"
           }
          ],
          "heatmap": [
           {
            "colorbar": {
             "outlinewidth": 0,
             "ticks": ""
            },
            "colorscale": [
             [
              0,
              "#0d0887"
             ],
             [
              0.1111111111111111,
              "#46039f"
             ],
             [
              0.2222222222222222,
              "#7201a8"
             ],
             [
              0.3333333333333333,
              "#9c179e"
             ],
             [
              0.4444444444444444,
              "#bd3786"
             ],
             [
              0.5555555555555556,
              "#d8576b"
             ],
             [
              0.6666666666666666,
              "#ed7953"
             ],
             [
              0.7777777777777778,
              "#fb9f3a"
             ],
             [
              0.8888888888888888,
              "#fdca26"
             ],
             [
              1,
              "#f0f921"
             ]
            ],
            "type": "heatmap"
           }
          ],
          "heatmapgl": [
           {
            "colorbar": {
             "outlinewidth": 0,
             "ticks": ""
            },
            "colorscale": [
             [
              0,
              "#0d0887"
             ],
             [
              0.1111111111111111,
              "#46039f"
             ],
             [
              0.2222222222222222,
              "#7201a8"
             ],
             [
              0.3333333333333333,
              "#9c179e"
             ],
             [
              0.4444444444444444,
              "#bd3786"
             ],
             [
              0.5555555555555556,
              "#d8576b"
             ],
             [
              0.6666666666666666,
              "#ed7953"
             ],
             [
              0.7777777777777778,
              "#fb9f3a"
             ],
             [
              0.8888888888888888,
              "#fdca26"
             ],
             [
              1,
              "#f0f921"
             ]
            ],
            "type": "heatmapgl"
           }
          ],
          "histogram": [
           {
            "marker": {
             "pattern": {
              "fillmode": "overlay",
              "size": 10,
              "solidity": 0.2
             }
            },
            "type": "histogram"
           }
          ],
          "histogram2d": [
           {
            "colorbar": {
             "outlinewidth": 0,
             "ticks": ""
            },
            "colorscale": [
             [
              0,
              "#0d0887"
             ],
             [
              0.1111111111111111,
              "#46039f"
             ],
             [
              0.2222222222222222,
              "#7201a8"
             ],
             [
              0.3333333333333333,
              "#9c179e"
             ],
             [
              0.4444444444444444,
              "#bd3786"
             ],
             [
              0.5555555555555556,
              "#d8576b"
             ],
             [
              0.6666666666666666,
              "#ed7953"
             ],
             [
              0.7777777777777778,
              "#fb9f3a"
             ],
             [
              0.8888888888888888,
              "#fdca26"
             ],
             [
              1,
              "#f0f921"
             ]
            ],
            "type": "histogram2d"
           }
          ],
          "histogram2dcontour": [
           {
            "colorbar": {
             "outlinewidth": 0,
             "ticks": ""
            },
            "colorscale": [
             [
              0,
              "#0d0887"
             ],
             [
              0.1111111111111111,
              "#46039f"
             ],
             [
              0.2222222222222222,
              "#7201a8"
             ],
             [
              0.3333333333333333,
              "#9c179e"
             ],
             [
              0.4444444444444444,
              "#bd3786"
             ],
             [
              0.5555555555555556,
              "#d8576b"
             ],
             [
              0.6666666666666666,
              "#ed7953"
             ],
             [
              0.7777777777777778,
              "#fb9f3a"
             ],
             [
              0.8888888888888888,
              "#fdca26"
             ],
             [
              1,
              "#f0f921"
             ]
            ],
            "type": "histogram2dcontour"
           }
          ],
          "mesh3d": [
           {
            "colorbar": {
             "outlinewidth": 0,
             "ticks": ""
            },
            "type": "mesh3d"
           }
          ],
          "parcoords": [
           {
            "line": {
             "colorbar": {
              "outlinewidth": 0,
              "ticks": ""
             }
            },
            "type": "parcoords"
           }
          ],
          "pie": [
           {
            "automargin": true,
            "type": "pie"
           }
          ],
          "scatter": [
           {
            "fillpattern": {
             "fillmode": "overlay",
             "size": 10,
             "solidity": 0.2
            },
            "type": "scatter"
           }
          ],
          "scatter3d": [
           {
            "line": {
             "colorbar": {
              "outlinewidth": 0,
              "ticks": ""
             }
            },
            "marker": {
             "colorbar": {
              "outlinewidth": 0,
              "ticks": ""
             }
            },
            "type": "scatter3d"
           }
          ],
          "scattercarpet": [
           {
            "marker": {
             "colorbar": {
              "outlinewidth": 0,
              "ticks": ""
             }
            },
            "type": "scattercarpet"
           }
          ],
          "scattergeo": [
           {
            "marker": {
             "colorbar": {
              "outlinewidth": 0,
              "ticks": ""
             }
            },
            "type": "scattergeo"
           }
          ],
          "scattergl": [
           {
            "marker": {
             "colorbar": {
              "outlinewidth": 0,
              "ticks": ""
             }
            },
            "type": "scattergl"
           }
          ],
          "scattermapbox": [
           {
            "marker": {
             "colorbar": {
              "outlinewidth": 0,
              "ticks": ""
             }
            },
            "type": "scattermapbox"
           }
          ],
          "scatterpolar": [
           {
            "marker": {
             "colorbar": {
              "outlinewidth": 0,
              "ticks": ""
             }
            },
            "type": "scatterpolar"
           }
          ],
          "scatterpolargl": [
           {
            "marker": {
             "colorbar": {
              "outlinewidth": 0,
              "ticks": ""
             }
            },
            "type": "scatterpolargl"
           }
          ],
          "scatterternary": [
           {
            "marker": {
             "colorbar": {
              "outlinewidth": 0,
              "ticks": ""
             }
            },
            "type": "scatterternary"
           }
          ],
          "surface": [
           {
            "colorbar": {
             "outlinewidth": 0,
             "ticks": ""
            },
            "colorscale": [
             [
              0,
              "#0d0887"
             ],
             [
              0.1111111111111111,
              "#46039f"
             ],
             [
              0.2222222222222222,
              "#7201a8"
             ],
             [
              0.3333333333333333,
              "#9c179e"
             ],
             [
              0.4444444444444444,
              "#bd3786"
             ],
             [
              0.5555555555555556,
              "#d8576b"
             ],
             [
              0.6666666666666666,
              "#ed7953"
             ],
             [
              0.7777777777777778,
              "#fb9f3a"
             ],
             [
              0.8888888888888888,
              "#fdca26"
             ],
             [
              1,
              "#f0f921"
             ]
            ],
            "type": "surface"
           }
          ],
          "table": [
           {
            "cells": {
             "fill": {
              "color": "#EBF0F8"
             },
             "line": {
              "color": "white"
             }
            },
            "header": {
             "fill": {
              "color": "#C8D4E3"
             },
             "line": {
              "color": "white"
             }
            },
            "type": "table"
           }
          ]
         },
         "layout": {
          "annotationdefaults": {
           "arrowcolor": "#2a3f5f",
           "arrowhead": 0,
           "arrowwidth": 1
          },
          "autotypenumbers": "strict",
          "coloraxis": {
           "colorbar": {
            "outlinewidth": 0,
            "ticks": ""
           }
          },
          "colorscale": {
           "diverging": [
            [
             0,
             "#8e0152"
            ],
            [
             0.1,
             "#c51b7d"
            ],
            [
             0.2,
             "#de77ae"
            ],
            [
             0.3,
             "#f1b6da"
            ],
            [
             0.4,
             "#fde0ef"
            ],
            [
             0.5,
             "#f7f7f7"
            ],
            [
             0.6,
             "#e6f5d0"
            ],
            [
             0.7,
             "#b8e186"
            ],
            [
             0.8,
             "#7fbc41"
            ],
            [
             0.9,
             "#4d9221"
            ],
            [
             1,
             "#276419"
            ]
           ],
           "sequential": [
            [
             0,
             "#0d0887"
            ],
            [
             0.1111111111111111,
             "#46039f"
            ],
            [
             0.2222222222222222,
             "#7201a8"
            ],
            [
             0.3333333333333333,
             "#9c179e"
            ],
            [
             0.4444444444444444,
             "#bd3786"
            ],
            [
             0.5555555555555556,
             "#d8576b"
            ],
            [
             0.6666666666666666,
             "#ed7953"
            ],
            [
             0.7777777777777778,
             "#fb9f3a"
            ],
            [
             0.8888888888888888,
             "#fdca26"
            ],
            [
             1,
             "#f0f921"
            ]
           ],
           "sequentialminus": [
            [
             0,
             "#0d0887"
            ],
            [
             0.1111111111111111,
             "#46039f"
            ],
            [
             0.2222222222222222,
             "#7201a8"
            ],
            [
             0.3333333333333333,
             "#9c179e"
            ],
            [
             0.4444444444444444,
             "#bd3786"
            ],
            [
             0.5555555555555556,
             "#d8576b"
            ],
            [
             0.6666666666666666,
             "#ed7953"
            ],
            [
             0.7777777777777778,
             "#fb9f3a"
            ],
            [
             0.8888888888888888,
             "#fdca26"
            ],
            [
             1,
             "#f0f921"
            ]
           ]
          },
          "colorway": [
           "#636efa",
           "#EF553B",
           "#00cc96",
           "#ab63fa",
           "#FFA15A",
           "#19d3f3",
           "#FF6692",
           "#B6E880",
           "#FF97FF",
           "#FECB52"
          ],
          "font": {
           "color": "#2a3f5f"
          },
          "geo": {
           "bgcolor": "white",
           "lakecolor": "white",
           "landcolor": "#E5ECF6",
           "showlakes": true,
           "showland": true,
           "subunitcolor": "white"
          },
          "hoverlabel": {
           "align": "left"
          },
          "hovermode": "closest",
          "mapbox": {
           "style": "light"
          },
          "paper_bgcolor": "white",
          "plot_bgcolor": "#E5ECF6",
          "polar": {
           "angularaxis": {
            "gridcolor": "white",
            "linecolor": "white",
            "ticks": ""
           },
           "bgcolor": "#E5ECF6",
           "radialaxis": {
            "gridcolor": "white",
            "linecolor": "white",
            "ticks": ""
           }
          },
          "scene": {
           "xaxis": {
            "backgroundcolor": "#E5ECF6",
            "gridcolor": "white",
            "gridwidth": 2,
            "linecolor": "white",
            "showbackground": true,
            "ticks": "",
            "zerolinecolor": "white"
           },
           "yaxis": {
            "backgroundcolor": "#E5ECF6",
            "gridcolor": "white",
            "gridwidth": 2,
            "linecolor": "white",
            "showbackground": true,
            "ticks": "",
            "zerolinecolor": "white"
           },
           "zaxis": {
            "backgroundcolor": "#E5ECF6",
            "gridcolor": "white",
            "gridwidth": 2,
            "linecolor": "white",
            "showbackground": true,
            "ticks": "",
            "zerolinecolor": "white"
           }
          },
          "shapedefaults": {
           "line": {
            "color": "#2a3f5f"
           }
          },
          "ternary": {
           "aaxis": {
            "gridcolor": "white",
            "linecolor": "white",
            "ticks": ""
           },
           "baxis": {
            "gridcolor": "white",
            "linecolor": "white",
            "ticks": ""
           },
           "bgcolor": "#E5ECF6",
           "caxis": {
            "gridcolor": "white",
            "linecolor": "white",
            "ticks": ""
           }
          },
          "title": {
           "x": 0.05
          },
          "xaxis": {
           "automargin": true,
           "gridcolor": "white",
           "linecolor": "white",
           "ticks": "",
           "title": {
            "standoff": 15
           },
           "zerolinecolor": "white",
           "zerolinewidth": 2
          },
          "yaxis": {
           "automargin": true,
           "gridcolor": "white",
           "linecolor": "white",
           "ticks": "",
           "title": {
            "standoff": 15
           },
           "zerolinecolor": "white",
           "zerolinewidth": 2
          }
         }
        },
        "title": {
         "text": "Hyperparameter Importances"
        },
        "xaxis": {
         "title": {
          "text": "Hyperparameter Importance"
         }
        },
        "yaxis": {
         "title": {
          "text": "Hyperparameter"
         }
        }
       }
      }
     },
     "metadata": {},
     "output_type": "display_data"
    }
   ],
   "source": [
    "optuna.visualization.plot_param_importances(study)"
   ]
  },
  {
   "cell_type": "markdown",
   "metadata": {},
   "source": [
    "## Execute the model on Testing Set"
   ]
  },
  {
   "cell_type": "code",
   "execution_count": 39,
   "metadata": {},
   "outputs": [
    {
     "data": {
      "text/plain": [
       "Counter({8: 164962,\n",
       "         4: 156456,\n",
       "         6: 151250,\n",
       "         1: 129813,\n",
       "         0: 121965,\n",
       "         11: 120476,\n",
       "         13: 84521,\n",
       "         7: 31131,\n",
       "         10: 29045,\n",
       "         9: 8243,\n",
       "         5: 1298,\n",
       "         2: 458,\n",
       "         3: 173,\n",
       "         12: 65})"
      ]
     },
     "execution_count": 39,
     "metadata": {},
     "output_type": "execute_result"
    }
   ],
   "source": [
    "from collections import Counter\n",
    "Counter(y_train2)"
   ]
  },
  {
   "cell_type": "code",
   "execution_count": 27,
   "metadata": {},
   "outputs": [
    {
     "name": "stdout",
     "output_type": "stream",
     "text": [
      "Training of model took 66.83 seconds (758.08 CPU seconds)\n"
     ]
    }
   ],
   "source": [
    "from CustomFunctions import Timer\n",
    "clf = LGBMClassifier(boosting_type='dart', objective='multiclass', n_jobs=-1, verbose=-1, \n",
    "                     n_estimators=150, learning_rate=0.066, max_depth=11, max_bin=400 )\n",
    "\n",
    "#First fit the model\n",
    "t = Timer()\n",
    "t.start()\n",
    "clf.fit(X_train2, y_train2)\n",
    "t.stop(timerName='Training of model')"
   ]
  },
  {
   "cell_type": "code",
   "execution_count": 30,
   "metadata": {},
   "outputs": [
    {
     "name": "stdout",
     "output_type": "stream",
     "text": [
      "(1499016, 69)\n"
     ]
    }
   ],
   "source": [
    "from sklearn.calibration import LabelEncoder\n",
    "\n",
    "#Load all testing data\n",
    "X_test = pd.read_csv('Inputs\\\\train_test_sets\\\\testing.csv')\n",
    "y_test = X_test.pop('Label')\n",
    "\n",
    "#drop features that are not required\n",
    "features_to_drop = ['Protocol', 'Dst Port Class']\n",
    "X_test.drop(axis=1, columns=features_to_drop, inplace=True)\n",
    "\n",
    "#Encode the target classes\n",
    "labelEnc = LabelEncoder()\n",
    "y_test = pd.Series(labelEnc.fit_transform(y_test), index=y_test.index)\n",
    "print(X_test.shape)"
   ]
  },
  {
   "cell_type": "code",
   "execution_count": 31,
   "metadata": {},
   "outputs": [
    {
     "name": "stdout",
     "output_type": "stream",
     "text": [
      "Executing model over the first 1000 rows of Testing Set took 0.02 seconds (0.14 CPU seconds)\n",
      "Executing model over the entire Testing set (1499016) rows took 15.19 seconds (164.16 CPU seconds)\n"
     ]
    }
   ],
   "source": [
    "t = Timer()\n",
    "t.start()\n",
    "pred_test_1000 = clf.predict(X_test.head(1000))\n",
    "t.stop('Executing model over the first 1000 rows of Testing Set')\n",
    "\n",
    "#Obtain predictions on the full Training dataset\n",
    "pred_train = clf.predict(X_train)\n",
    "\n",
    "#Obtain predictions on the full Testing dataset\n",
    "t.start()\n",
    "pred_test = clf.predict(X_test)\n",
    "t.stop('Executing model over the entire Testing set (' + str(len(X_test)) + ') rows')"
   ]
  },
  {
   "cell_type": "code",
   "execution_count": 32,
   "metadata": {},
   "outputs": [
    {
     "name": "stdout",
     "output_type": "stream",
     "text": [
      "\n",
      "Training Set: Size:  (999856, 69)\n",
      "Training Set: F2 score:  0.9660808377527719\n",
      "Training Set: Matthews Correlation Coefficient:  0.973242468587003\n",
      "\n",
      "Testing Set: Size:  (1499016, 69)\n",
      "Testing Set: F2 score:  0.8543880150898867\n",
      "Testing Set: Matthews Correlation Coefficient:  0.8999364661575133\n",
      "\n",
      "\n",
      "    precision  recall  f2-score  support\n",
      "0        1.00    0.87      0.90  847,255\n",
      "1        1.00    1.00      1.00   71,548\n",
      "2        0.26    0.93      0.62      153\n",
      "3        0.24    0.93      0.58       57\n",
      "4        1.00    1.00      1.00  171,503\n",
      "5        0.70    0.99      0.92      432\n",
      "6        1.00    1.00      1.00  144,048\n",
      "7        1.00    1.00      1.00   10,377\n",
      "8        1.00    1.00      1.00  115,478\n",
      "9        0.98    1.00      1.00    2,747\n",
      "10       1.00    1.00      1.00   48,339\n",
      "11       0.26    0.92      0.61   40,160\n",
      "12       0.10    0.86      0.34       22\n",
      "13       1.00    1.00      1.00   46,897\n",
      "\n",
      "Matthews Correlation Coefficient:  0.90\n",
      "F2 Macro score:  85.4%\n"
     ]
    },
    {
     "data": {
      "image/png": "[encoded data removed]",
      "text/plain": [
       "<Figure size 1000x1000 with 2 Axes>"
      ]
     },
     "metadata": {},
     "output_type": "display_data"
    }
   ],
   "source": [
    "from sklearn.metrics import ConfusionMatrixDisplay, matthews_corrcoef\n",
    "from sklearn.metrics import confusion_matrix\n",
    "import matplotlib.pyplot as plt\n",
    "from CustomFunctions import classification_report_IDS\n",
    "\n",
    "#Output results\n",
    "print('\\nTraining Set: Size: ', X_train.shape)\n",
    "print('Training Set: F2 score: ', fbeta_score(y_train, pred_train, beta=2, average='macro'))\n",
    "print('Training Set: Matthews Correlation Coefficient: ', matthews_corrcoef(y_train, pred_train))\n",
    "\n",
    "print('\\nTesting Set: Size: ', X_test.shape)\n",
    "print('Testing Set: F2 score: ', fbeta_score(y_test, pred_test, beta=2, average='macro'))\n",
    "print('Testing Set: Matthews Correlation Coefficient: ', matthews_corrcoef(y_test, pred_test))\n",
    "print('\\n')\n",
    "\n",
    "#Plot the confusion matrix\n",
    "c = ConfusionMatrixDisplay(confusion_matrix(y_test, pred_test), display_labels=clf.classes_)\n",
    "fig, ax = plt.subplots(figsize=(10,10))\n",
    "c.plot(ax = ax, cmap='Blues', xticks_rotation='vertical')\n",
    "\n",
    "## Classification Report\n",
    "classification_report_IDS(y_test, pred_test)"
   ]
  },
  {
   "cell_type": "markdown",
   "metadata": {},
   "source": [
    "#### What is the optimum Training Set size?"
   ]
  },
  {
   "cell_type": "code",
   "execution_count": 38,
   "metadata": {},
   "outputs": [
    {
     "data": {
      "image/png": "[encoded data removed]",
      "text/plain": [
       "<Figure size 1000x500 with 1 Axes>"
      ]
     },
     "metadata": {},
     "output_type": "display_data"
    }
   ],
   "source": [
    "from plot_Validation_and_LearningCurves import plot_learning_curve, plot_validation_curve\n",
    "from sklearn import metrics\n",
    "from sklearn.metrics import make_scorer, fbeta_score\n",
    "from sklearn.model_selection import StratifiedKFold\n",
    "\n",
    "cv = StratifiedKFold(n_splits=5)\n",
    "f2_scorer = make_scorer(fbeta_score, beta=2, average='macro')\n",
    "plot_learning_curve(clf, X=X_train2, y=y_train2, cv=cv, scoring=f2_scorer, train_sizes=np.linspace(0.1, 1.0, 5));\n"
   ]
  },
  {
   "cell_type": "markdown",
   "metadata": {},
   "source": [
    "**Observations:** The above Learning Curve seems to be ideal as both the training and validation curves are producing very high F2 scores while the gap between them is only 1% - indicating there is relatively low overfitting. Also, a good training set size would be around 500,000"
   ]
  }
 ],
 "metadata": {
  "kernelspec": {
   "display_name": "base",
   "language": "python",
   "name": "python3"
  },
  "language_info": {
   "codemirror_mode": {
    "name": "ipython",
    "version": 3
   },
   "file_extension": ".py",
   "mimetype": "text/x-python",
   "name": "python",
   "nbconvert_exporter": "python",
   "pygments_lexer": "ipython3",
   "version": "3.11.5"
  }
 },
 "nbformat": 4,
 "nbformat_minor": 2
}
