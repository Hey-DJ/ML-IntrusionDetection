{
 "cells": [
  {
   "cell_type": "markdown",
   "metadata": {},
   "source": [
    "# Model tuning"
   ]
  },
  {
   "cell_type": "markdown",
   "metadata": {},
   "source": [
    "### Prepare the Training Set"
   ]
  },
  {
   "cell_type": "code",
   "execution_count": 1,
   "metadata": {},
   "outputs": [
    {
     "name": "stdout",
     "output_type": "stream",
     "text": [
      "(999856, 71)\n"
     ]
    }
   ],
   "source": [
    "import numpy as np\n",
    "import pandas as pd\n",
    "\n",
    "#Load all training data\n",
    "X_train = pd.read_csv('Inputs\\\\train_test_sets\\\\training.csv')\n",
    "y_train = X_train.pop('Label')\n",
    "print(X_train.shape)"
   ]
  },
  {
   "cell_type": "code",
   "execution_count": 2,
   "metadata": {},
   "outputs": [],
   "source": [
    "from sklearn.calibration import LabelEncoder\n",
    "\n",
    "#drop features that are not required\n",
    "features_to_drop = ['Protocol', 'Dst Port Class']\n",
    "X_train.drop(axis=1, columns=features_to_drop, inplace=True)"
   ]
  },
  {
   "cell_type": "code",
   "execution_count": 3,
   "metadata": {},
   "outputs": [
    {
     "data": {
      "text/plain": [
       "Counter({'DoS attacks-Hulk': 164962,\n",
       "         'DDOS attack-HOIC': 156456,\n",
       "         'DDoS attacks-LOIC-HTTP': 151250,\n",
       "         'Bot': 129813,\n",
       "         'Benign': 121965,\n",
       "         'Infilteration': 120476,\n",
       "         'SSH-Bruteforce': 84521,\n",
       "         'DoS attacks-GoldenEye': 31131,\n",
       "         'FTP-BruteForce': 29045,\n",
       "         'DoS attacks-Slowloris': 8243,\n",
       "         'DDOS attack-LOIC-UDP': 1298,\n",
       "         'Brute Force -Web': 458,\n",
       "         'Brute Force -XSS': 173,\n",
       "         'SQL Injection': 65})"
      ]
     },
     "execution_count": 3,
     "metadata": {},
     "output_type": "execute_result"
    }
   ],
   "source": [
    "from collections import Counter\n",
    "Counter(y_train)"
   ]
  },
  {
   "cell_type": "code",
   "execution_count": 27,
   "metadata": {},
   "outputs": [
    {
     "name": "stdout",
     "output_type": "stream",
     "text": [
      "679045\n"
     ]
    },
    {
     "data": {
      "text/plain": [
       "Label\n",
       "Benign                    50000\n",
       "Bot                       50000\n",
       "Brute Force -Web          50000\n",
       "Brute Force -XSS          50000\n",
       "DDOS attack-HOIC          50000\n",
       "DDOS attack-LOIC-UDP      50000\n",
       "DDoS attacks-LOIC-HTTP    50000\n",
       "DoS attacks-GoldenEye     50000\n",
       "DoS attacks-Hulk          50000\n",
       "DoS attacks-Slowloris     50000\n",
       "Infilteration             50000\n",
       "SQL Injection             50000\n",
       "SSH-Bruteforce            50000\n",
       "FTP-BruteForce            29045\n",
       "Name: count, dtype: int64"
      ]
     },
     "execution_count": 27,
     "metadata": {},
     "output_type": "execute_result"
    }
   ],
   "source": [
    "from imblearn.under_sampling import RandomUnderSampler\n",
    "from imblearn.over_sampling import BorderlineSMOTE\n",
    "from imblearn.pipeline import Pipeline\n",
    "\n",
    "#Define the over sampling and under sampling dictionaries\n",
    "dictUnderSample = { 'DoS attacks-Hulk': 50000,\n",
    "                    'DDOS attack-HOIC': 50000,\n",
    "                    'DDoS attacks-LOIC-HTTP': 50000,\n",
    "                    'Bot': 50000,\n",
    "                    'Benign': 50000,\n",
    "                    'Infilteration': 50000,\n",
    "                    'SSH-Bruteforce': 50000,\n",
    "                    'DoS attacks-GoldenEye': 31131,\n",
    "                    'FTP-BruteForce': 29045,\n",
    "                    'DoS attacks-Slowloris': 8243,\n",
    "                    'DDOS attack-LOIC-UDP': 1298,\n",
    "                    'Brute Force -Web': 458,\n",
    "                    'Brute Force -XSS': 173,\n",
    "                    'SQL Injection': 65}\n",
    "\n",
    "dictOverSample = {  'DoS attacks-Hulk': 50000,\n",
    "                    'DDOS attack-HOIC': 50000,\n",
    "                    'DDoS attacks-LOIC-HTTP': 50000,\n",
    "                    'Bot': 50000,\n",
    "                    'Benign': 50000,\n",
    "                    'Infilteration': 50000,\n",
    "                    'SSH-Bruteforce': 50000,\n",
    "                    'DoS attacks-GoldenEye': 50000,\n",
    "                    'FTP-BruteForce': 50000,\n",
    "                    'DoS attacks-Slowloris': 50000,\n",
    "                    'DDOS attack-LOIC-UDP': 50000,\n",
    "                    'Brute Force -Web': 50000,\n",
    "                    'Brute Force -XSS': 50000,\n",
    "                    'SQL Injection': 50000}\n",
    "\n",
    "#Pipeline for undersampling and then oversampling\n",
    "pipeline = Pipeline(steps=[ ('underSample', RandomUnderSampler(random_state=0, sampling_strategy=dictUnderSample)),\n",
    "                            ('overSample', BorderlineSMOTE(random_state=0, sampling_strategy=dictOverSample)) ])\n",
    "\n",
    "#Run the pipeline\n",
    "X_train2, y_train2 = pipeline.fit_resample(X_train, y_train)\n",
    "print(len(X_train2))\n",
    "y_train2.value_counts()"
   ]
  },
  {
   "cell_type": "markdown",
   "metadata": {},
   "source": [
    "## Hyper-tuning of classifier"
   ]
  },
  {
   "cell_type": "code",
   "execution_count": 33,
   "metadata": {},
   "outputs": [
    {
     "name": "stderr",
     "output_type": "stream",
     "text": [
      "[I 2024-01-21 00:26:20,514] A new study created in memory with name: Hyperparameter Tuning\n",
      "[I 2024-01-21 00:27:42,628] Trial 0 finished with value: 0.9791409800090041 and parameters: {'learning_rate': 0.32149316276591355, 'num_leaves': 84, 'max_bin': 350, 'boosting_type': 'dart', 'lambda_l1': 53, 'bagging_fraction': 0.7676467054891687, 'bagging_freq': 0}. Best is trial 0 with value: 0.9791409800090041.\n",
      "[I 2024-01-21 00:28:53,561] Trial 1 finished with value: 0.9774404341099526 and parameters: {'learning_rate': 0.057419764666741736, 'num_leaves': 210, 'max_bin': 350, 'boosting_type': 'dart', 'lambda_l1': 11, 'bagging_fraction': 0.2622580858246709, 'bagging_freq': 2}. Best is trial 0 with value: 0.9791409800090041.\n",
      "[I 2024-01-21 00:29:47,370] Trial 2 finished with value: 0.9809196830558643 and parameters: {'learning_rate': 0.1158766943612183, 'num_leaves': 152, 'max_bin': 400, 'boosting_type': 'gbdt', 'lambda_l1': 17, 'bagging_fraction': 0.8074313468720595, 'bagging_freq': 0}. Best is trial 2 with value: 0.9809196830558643.\n",
      "[I 2024-01-21 00:31:15,367] Trial 3 finished with value: 0.9777280859950039 and parameters: {'learning_rate': 0.1506855629727959, 'num_leaves': 85, 'max_bin': 350, 'boosting_type': 'dart', 'lambda_l1': 75, 'bagging_fraction': 0.6990686735452709, 'bagging_freq': 0}. Best is trial 2 with value: 0.9809196830558643.\n",
      "[I 2024-01-21 00:32:22,395] Trial 4 finished with value: 0.9767613909832786 and parameters: {'learning_rate': 0.32938235167711527, 'num_leaves': 153, 'max_bin': 250, 'boosting_type': 'dart', 'lambda_l1': 71, 'bagging_fraction': 0.5364575836988419, 'bagging_freq': 1}. Best is trial 2 with value: 0.9809196830558643.\n",
      "[I 2024-01-21 00:33:13,890] Trial 5 finished with value: 0.9750676937337022 and parameters: {'learning_rate': 0.341041208948031, 'num_leaves': 245, 'max_bin': 50, 'boosting_type': 'dart', 'lambda_l1': 46, 'bagging_fraction': 0.235364517014853, 'bagging_freq': 1}. Best is trial 2 with value: 0.9809196830558643.\n",
      "[I 2024-01-21 00:33:54,214] Trial 6 finished with value: 0.9720466454079757 and parameters: {'learning_rate': 0.3948674950581129, 'num_leaves': 66, 'max_bin': 100, 'boosting_type': 'dart', 'lambda_l1': 96, 'bagging_fraction': 0.22086250173214622, 'bagging_freq': 2}. Best is trial 2 with value: 0.9809196830558643.\n",
      "[I 2024-01-21 00:34:43,093] Trial 7 finished with value: 0.977620987379801 and parameters: {'learning_rate': 0.12854252873217306, 'num_leaves': 241, 'max_bin': 300, 'boosting_type': 'gbdt', 'lambda_l1': 82, 'bagging_fraction': 0.8624890599747768, 'bagging_freq': 2}. Best is trial 2 with value: 0.9809196830558643.\n",
      "[I 2024-01-21 00:35:26,733] Trial 8 finished with value: 0.9782655493064895 and parameters: {'learning_rate': 0.2765081493772601, 'num_leaves': 182, 'max_bin': 250, 'boosting_type': 'gbdt', 'lambda_l1': 68, 'bagging_fraction': 0.8696734562867561, 'bagging_freq': 2}. Best is trial 2 with value: 0.9809196830558643.\n",
      "[I 2024-01-21 00:36:53,931] Trial 9 finished with value: 0.9787288876105205 and parameters: {'learning_rate': 0.26487810219228797, 'num_leaves': 152, 'max_bin': 300, 'boosting_type': 'dart', 'lambda_l1': 62, 'bagging_fraction': 0.44316692073342695, 'bagging_freq': 0}. Best is trial 2 with value: 0.9809196830558643.\n"
     ]
    },
    {
     "name": "stdout",
     "output_type": "stream",
     "text": [
      "Best F2-macro score (mean):  0.9809196830558643\n",
      "Best Params: \n",
      "  learning_rate: 0.1158766943612183\n",
      "  num_leaves: 152\n",
      "  max_bin: 400\n",
      "  boosting_type: gbdt\n",
      "  lambda_l1: 17\n",
      "  bagging_fraction: 0.8074313468720595\n",
      "  bagging_freq: 0\n"
     ]
    }
   ],
   "source": [
    "from lightgbm import LGBMClassifier\n",
    "import optuna\n",
    "from sklearn.model_selection import cross_val_score\n",
    "from sklearn.model_selection import GridSearchCV\n",
    "from sklearn.metrics import make_scorer, fbeta_score\n",
    "from sklearn.model_selection import StratifiedKFold\n",
    "\n",
    "#Use GridSearch cross-validation to find optimum parameters\n",
    "cv = StratifiedKFold(n_splits=4, shuffle=True)\n",
    "f2_scorer = make_scorer(fbeta_score, beta=2, average='macro')\n",
    "\n",
    "#Define Optuna objective method\n",
    "def objective(trial, X, y, cv, scoring):\n",
    "    param_grid = {\n",
    "        #\"n_estimators\": trial.suggest_int(\"n_estimators\", 20, 250),\n",
    "        \"learning_rate\": trial.suggest_float(\"learning_rate\", 0.03, 0.4),\n",
    "        \"num_leaves\": trial.suggest_int(\"num_leaves\", 20, 250),\n",
    "        # \"early_stopping_rounds\": 10,\n",
    "        #\"max_depth\": trial.suggest_int(\"max_depth\", 3, 15),\n",
    "        \"max_bin\": trial.suggest_int(\"max_bin\", 50, 450, step=50),\n",
    "        \"boosting_type\": trial.suggest_categorical('boosting_type', ['gbdt', 'dart']),\n",
    "        # \"min_data_in_leaf\": trial.suggest_int(\"min_data_in_leaf\", 200, 10000, step=100),\n",
    "        \"lambda_l1\": trial.suggest_int(\"lambda_l1\", 0, 100),\n",
    "        # \"lambda_l2\": trial.suggest_int(\"lambda_l2\", 0, 100, step=5),\n",
    "        # \"min_gain_to_split\": trial.suggest_float(\"min_gain_to_split\", 0, 15),\n",
    "        \"bagging_fraction\": trial.suggest_float(\"bagging_fraction\", 0.2, 0.95),\n",
    "        \"bagging_freq\": trial.suggest_int(\"bagging_freq\", 0, 2),\n",
    "        # \"feature_fraction\": trial.suggest_float(\"feature_fraction\", 0.2, 0.95, step=0.1)\n",
    "        \"objective\": 'multiclass', \n",
    "        \"verbose\": -1,\n",
    "        #\"random_state\": 0\n",
    "    }\n",
    "\n",
    "    clf = LGBMClassifier(**param_grid)\n",
    "    cv_scores = cross_val_score(clf, X, y, cv=cv, scoring=scoring, n_jobs=5)\n",
    "    return cv_scores.mean()\n",
    "\n",
    "#Initialise the Optuna study\n",
    "study = optuna.create_study(direction=\"maximize\", study_name='Hyperparameter Tuning')       #We want to maximise the F2 scores\n",
    "\n",
    "#Optimization with several trials\n",
    "func = lambda trial: objective(trial, X_train2, y_train2, cv=cv, scoring=f2_scorer)\n",
    "study.optimize(func, n_trials=10)\n",
    "\n",
    "#Output results\n",
    "trial = study.best_trial\n",
    "print(\"Best F2-macro score (mean): \", trial.value)\n",
    "print(\"Best Params: \")\n",
    "for key, value in trial.params.items():\n",
    "    print(\"  {}: {}\".format(key, value))\n"
   ]
  },
  {
   "cell_type": "code",
   "execution_count": 6,
   "metadata": {},
   "outputs": [
    {
     "data": {
      "application/vnd.plotly.v1+json": {
       "config": {
        "plotlyServerURL": "https://plot.ly"
       },
       "data": [
        {
         "cliponaxis": false,
         "hovertemplate": [
          "bagging_freq (IntDistribution): 0.00040121499864433346<extra></extra>",
          "boosting_type (CategoricalDistribution): 0.006046259692078788<extra></extra>",
          "max_bin (IntDistribution): 0.044052569210810716<extra></extra>",
          "n_estimators (IntDistribution): 0.09861729428138846<extra></extra>",
          "bagging_fraction (FloatDistribution): 0.18559706478741803<extra></extra>",
          "num_leaves (IntDistribution): 0.28436379503200665<extra></extra>",
          "learning_rate (FloatDistribution): 0.3809218019976531<extra></extra>"
         ],
         "name": "Objective Value",
         "orientation": "h",
         "text": [
          "<0.01",
          "<0.01",
          "0.04",
          "0.10",
          "0.19",
          "0.28",
          "0.38"
         ],
         "textposition": "outside",
         "type": "bar",
         "x": [
          0.00040121499864433346,
          0.006046259692078788,
          0.044052569210810716,
          0.09861729428138846,
          0.18559706478741803,
          0.28436379503200665,
          0.3809218019976531
         ],
         "y": [
          "bagging_freq",
          "boosting_type",
          "max_bin",
          "n_estimators",
          "bagging_fraction",
          "num_leaves",
          "learning_rate"
         ]
        }
       ],
       "layout": {
        "template": {
         "data": {
          "bar": [
           {
            "error_x": {
             "color": "#2a3f5f"
            },
            "error_y": {
             "color": "#2a3f5f"
            },
            "marker": {
             "line": {
              "color": "#E5ECF6",
              "width": 0.5
             },
             "pattern": {
              "fillmode": "overlay",
              "size": 10,
              "solidity": 0.2
             }
            },
            "type": "bar"
           }
          ],
          "barpolar": [
           {
            "marker": {
             "line": {
              "color": "#E5ECF6",
              "width": 0.5
             },
             "pattern": {
              "fillmode": "overlay",
              "size": 10,
              "solidity": 0.2
             }
            },
            "type": "barpolar"
           }
          ],
          "carpet": [
           {
            "aaxis": {
             "endlinecolor": "#2a3f5f",
             "gridcolor": "white",
             "linecolor": "white",
             "minorgridcolor": "white",
             "startlinecolor": "#2a3f5f"
            },
            "baxis": {
             "endlinecolor": "#2a3f5f",
             "gridcolor": "white",
             "linecolor": "white",
             "minorgridcolor": "white",
             "startlinecolor": "#2a3f5f"
            },
            "type": "carpet"
           }
          ],
          "choropleth": [
           {
            "colorbar": {
             "outlinewidth": 0,
             "ticks": ""
            },
            "type": "choropleth"
           }
          ],
          "contour": [
           {
            "colorbar": {
             "outlinewidth": 0,
             "ticks": ""
            },
            "colorscale": [
             [
              0,
              "#0d0887"
             ],
             [
              0.1111111111111111,
              "#46039f"
             ],
             [
              0.2222222222222222,
              "#7201a8"
             ],
             [
              0.3333333333333333,
              "#9c179e"
             ],
             [
              0.4444444444444444,
              "#bd3786"
             ],
             [
              0.5555555555555556,
              "#d8576b"
             ],
             [
              0.6666666666666666,
              "#ed7953"
             ],
             [
              0.7777777777777778,
              "#fb9f3a"
             ],
             [
              0.8888888888888888,
              "#fdca26"
             ],
             [
              1,
              "#f0f921"
             ]
            ],
            "type": "contour"
           }
          ],
          "contourcarpet": [
           {
            "colorbar": {
             "outlinewidth": 0,
             "ticks": ""
            },
            "type": "contourcarpet"
           }
          ],
          "heatmap": [
           {
            "colorbar": {
             "outlinewidth": 0,
             "ticks": ""
            },
            "colorscale": [
             [
              0,
              "#0d0887"
             ],
             [
              0.1111111111111111,
              "#46039f"
             ],
             [
              0.2222222222222222,
              "#7201a8"
             ],
             [
              0.3333333333333333,
              "#9c179e"
             ],
             [
              0.4444444444444444,
              "#bd3786"
             ],
             [
              0.5555555555555556,
              "#d8576b"
             ],
             [
              0.6666666666666666,
              "#ed7953"
             ],
             [
              0.7777777777777778,
              "#fb9f3a"
             ],
             [
              0.8888888888888888,
              "#fdca26"
             ],
             [
              1,
              "#f0f921"
             ]
            ],
            "type": "heatmap"
           }
          ],
          "heatmapgl": [
           {
            "colorbar": {
             "outlinewidth": 0,
             "ticks": ""
            },
            "colorscale": [
             [
              0,
              "#0d0887"
             ],
             [
              0.1111111111111111,
              "#46039f"
             ],
             [
              0.2222222222222222,
              "#7201a8"
             ],
             [
              0.3333333333333333,
              "#9c179e"
             ],
             [
              0.4444444444444444,
              "#bd3786"
             ],
             [
              0.5555555555555556,
              "#d8576b"
             ],
             [
              0.6666666666666666,
              "#ed7953"
             ],
             [
              0.7777777777777778,
              "#fb9f3a"
             ],
             [
              0.8888888888888888,
              "#fdca26"
             ],
             [
              1,
              "#f0f921"
             ]
            ],
            "type": "heatmapgl"
           }
          ],
          "histogram": [
           {
            "marker": {
             "pattern": {
              "fillmode": "overlay",
              "size": 10,
              "solidity": 0.2
             }
            },
            "type": "histogram"
           }
          ],
          "histogram2d": [
           {
            "colorbar": {
             "outlinewidth": 0,
             "ticks": ""
            },
            "colorscale": [
             [
              0,
              "#0d0887"
             ],
             [
              0.1111111111111111,
              "#46039f"
             ],
             [
              0.2222222222222222,
              "#7201a8"
             ],
             [
              0.3333333333333333,
              "#9c179e"
             ],
             [
              0.4444444444444444,
              "#bd3786"
             ],
             [
              0.5555555555555556,
              "#d8576b"
             ],
             [
              0.6666666666666666,
              "#ed7953"
             ],
             [
              0.7777777777777778,
              "#fb9f3a"
             ],
             [
              0.8888888888888888,
              "#fdca26"
             ],
             [
              1,
              "#f0f921"
             ]
            ],
            "type": "histogram2d"
           }
          ],
          "histogram2dcontour": [
           {
            "colorbar": {
             "outlinewidth": 0,
             "ticks": ""
            },
            "colorscale": [
             [
              0,
              "#0d0887"
             ],
             [
              0.1111111111111111,
              "#46039f"
             ],
             [
              0.2222222222222222,
              "#7201a8"
             ],
             [
              0.3333333333333333,
              "#9c179e"
             ],
             [
              0.4444444444444444,
              "#bd3786"
             ],
             [
              0.5555555555555556,
              "#d8576b"
             ],
             [
              0.6666666666666666,
              "#ed7953"
             ],
             [
              0.7777777777777778,
              "#fb9f3a"
             ],
             [
              0.8888888888888888,
              "#fdca26"
             ],
             [
              1,
              "#f0f921"
             ]
            ],
            "type": "histogram2dcontour"
           }
          ],
          "mesh3d": [
           {
            "colorbar": {
             "outlinewidth": 0,
             "ticks": ""
            },
            "type": "mesh3d"
           }
          ],
          "parcoords": [
           {
            "line": {
             "colorbar": {
              "outlinewidth": 0,
              "ticks": ""
             }
            },
            "type": "parcoords"
           }
          ],
          "pie": [
           {
            "automargin": true,
            "type": "pie"
           }
          ],
          "scatter": [
           {
            "fillpattern": {
             "fillmode": "overlay",
             "size": 10,
             "solidity": 0.2
            },
            "type": "scatter"
           }
          ],
          "scatter3d": [
           {
            "line": {
             "colorbar": {
              "outlinewidth": 0,
              "ticks": ""
             }
            },
            "marker": {
             "colorbar": {
              "outlinewidth": 0,
              "ticks": ""
             }
            },
            "type": "scatter3d"
           }
          ],
          "scattercarpet": [
           {
            "marker": {
             "colorbar": {
              "outlinewidth": 0,
              "ticks": ""
             }
            },
            "type": "scattercarpet"
           }
          ],
          "scattergeo": [
           {
            "marker": {
             "colorbar": {
              "outlinewidth": 0,
              "ticks": ""
             }
            },
            "type": "scattergeo"
           }
          ],
          "scattergl": [
           {
            "marker": {
             "colorbar": {
              "outlinewidth": 0,
              "ticks": ""
             }
            },
            "type": "scattergl"
           }
          ],
          "scattermapbox": [
           {
            "marker": {
             "colorbar": {
              "outlinewidth": 0,
              "ticks": ""
             }
            },
            "type": "scattermapbox"
           }
          ],
          "scatterpolar": [
           {
            "marker": {
             "colorbar": {
              "outlinewidth": 0,
              "ticks": ""
             }
            },
            "type": "scatterpolar"
           }
          ],
          "scatterpolargl": [
           {
            "marker": {
             "colorbar": {
              "outlinewidth": 0,
              "ticks": ""
             }
            },
            "type": "scatterpolargl"
           }
          ],
          "scatterternary": [
           {
            "marker": {
             "colorbar": {
              "outlinewidth": 0,
              "ticks": ""
             }
            },
            "type": "scatterternary"
           }
          ],
          "surface": [
           {
            "colorbar": {
             "outlinewidth": 0,
             "ticks": ""
            },
            "colorscale": [
             [
              0,
              "#0d0887"
             ],
             [
              0.1111111111111111,
              "#46039f"
             ],
             [
              0.2222222222222222,
              "#7201a8"
             ],
             [
              0.3333333333333333,
              "#9c179e"
             ],
             [
              0.4444444444444444,
              "#bd3786"
             ],
             [
              0.5555555555555556,
              "#d8576b"
             ],
             [
              0.6666666666666666,
              "#ed7953"
             ],
             [
              0.7777777777777778,
              "#fb9f3a"
             ],
             [
              0.8888888888888888,
              "#fdca26"
             ],
             [
              1,
              "#f0f921"
             ]
            ],
            "type": "surface"
           }
          ],
          "table": [
           {
            "cells": {
             "fill": {
              "color": "#EBF0F8"
             },
             "line": {
              "color": "white"
             }
            },
            "header": {
             "fill": {
              "color": "#C8D4E3"
             },
             "line": {
              "color": "white"
             }
            },
            "type": "table"
           }
          ]
         },
         "layout": {
          "annotationdefaults": {
           "arrowcolor": "#2a3f5f",
           "arrowhead": 0,
           "arrowwidth": 1
          },
          "autotypenumbers": "strict",
          "coloraxis": {
           "colorbar": {
            "outlinewidth": 0,
            "ticks": ""
           }
          },
          "colorscale": {
           "diverging": [
            [
             0,
             "#8e0152"
            ],
            [
             0.1,
             "#c51b7d"
            ],
            [
             0.2,
             "#de77ae"
            ],
            [
             0.3,
             "#f1b6da"
            ],
            [
             0.4,
             "#fde0ef"
            ],
            [
             0.5,
             "#f7f7f7"
            ],
            [
             0.6,
             "#e6f5d0"
            ],
            [
             0.7,
             "#b8e186"
            ],
            [
             0.8,
             "#7fbc41"
            ],
            [
             0.9,
             "#4d9221"
            ],
            [
             1,
             "#276419"
            ]
           ],
           "sequential": [
            [
             0,
             "#0d0887"
            ],
            [
             0.1111111111111111,
             "#46039f"
            ],
            [
             0.2222222222222222,
             "#7201a8"
            ],
            [
             0.3333333333333333,
             "#9c179e"
            ],
            [
             0.4444444444444444,
             "#bd3786"
            ],
            [
             0.5555555555555556,
             "#d8576b"
            ],
            [
             0.6666666666666666,
             "#ed7953"
            ],
            [
             0.7777777777777778,
             "#fb9f3a"
            ],
            [
             0.8888888888888888,
             "#fdca26"
            ],
            [
             1,
             "#f0f921"
            ]
           ],
           "sequentialminus": [
            [
             0,
             "#0d0887"
            ],
            [
             0.1111111111111111,
             "#46039f"
            ],
            [
             0.2222222222222222,
             "#7201a8"
            ],
            [
             0.3333333333333333,
             "#9c179e"
            ],
            [
             0.4444444444444444,
             "#bd3786"
            ],
            [
             0.5555555555555556,
             "#d8576b"
            ],
            [
             0.6666666666666666,
             "#ed7953"
            ],
            [
             0.7777777777777778,
             "#fb9f3a"
            ],
            [
             0.8888888888888888,
             "#fdca26"
            ],
            [
             1,
             "#f0f921"
            ]
           ]
          },
          "colorway": [
           "#636efa",
           "#EF553B",
           "#00cc96",
           "#ab63fa",
           "#FFA15A",
           "#19d3f3",
           "#FF6692",
           "#B6E880",
           "#FF97FF",
           "#FECB52"
          ],
          "font": {
           "color": "#2a3f5f"
          },
          "geo": {
           "bgcolor": "white",
           "lakecolor": "white",
           "landcolor": "#E5ECF6",
           "showlakes": true,
           "showland": true,
           "subunitcolor": "white"
          },
          "hoverlabel": {
           "align": "left"
          },
          "hovermode": "closest",
          "mapbox": {
           "style": "light"
          },
          "paper_bgcolor": "white",
          "plot_bgcolor": "#E5ECF6",
          "polar": {
           "angularaxis": {
            "gridcolor": "white",
            "linecolor": "white",
            "ticks": ""
           },
           "bgcolor": "#E5ECF6",
           "radialaxis": {
            "gridcolor": "white",
            "linecolor": "white",
            "ticks": ""
           }
          },
          "scene": {
           "xaxis": {
            "backgroundcolor": "#E5ECF6",
            "gridcolor": "white",
            "gridwidth": 2,
            "linecolor": "white",
            "showbackground": true,
            "ticks": "",
            "zerolinecolor": "white"
           },
           "yaxis": {
            "backgroundcolor": "#E5ECF6",
            "gridcolor": "white",
            "gridwidth": 2,
            "linecolor": "white",
            "showbackground": true,
            "ticks": "",
            "zerolinecolor": "white"
           },
           "zaxis": {
            "backgroundcolor": "#E5ECF6",
            "gridcolor": "white",
            "gridwidth": 2,
            "linecolor": "white",
            "showbackground": true,
            "ticks": "",
            "zerolinecolor": "white"
           }
          },
          "shapedefaults": {
           "line": {
            "color": "#2a3f5f"
           }
          },
          "ternary": {
           "aaxis": {
            "gridcolor": "white",
            "linecolor": "white",
            "ticks": ""
           },
           "baxis": {
            "gridcolor": "white",
            "linecolor": "white",
            "ticks": ""
           },
           "bgcolor": "#E5ECF6",
           "caxis": {
            "gridcolor": "white",
            "linecolor": "white",
            "ticks": ""
           }
          },
          "title": {
           "x": 0.05
          },
          "xaxis": {
           "automargin": true,
           "gridcolor": "white",
           "linecolor": "white",
           "ticks": "",
           "title": {
            "standoff": 15
           },
           "zerolinecolor": "white",
           "zerolinewidth": 2
          },
          "yaxis": {
           "automargin": true,
           "gridcolor": "white",
           "linecolor": "white",
           "ticks": "",
           "title": {
            "standoff": 15
           },
           "zerolinecolor": "white",
           "zerolinewidth": 2
          }
         }
        },
        "title": {
         "text": "Hyperparameter Importances"
        },
        "xaxis": {
         "title": {
          "text": "Hyperparameter Importance"
         }
        },
        "yaxis": {
         "title": {
          "text": "Hyperparameter"
         }
        }
       }
      }
     },
     "metadata": {},
     "output_type": "display_data"
    }
   ],
   "source": [
    "optuna.visualization.plot_param_importances(study)"
   ]
  },
  {
   "cell_type": "markdown",
   "metadata": {},
   "source": [
    "## Execute the model on Testing Set"
   ]
  },
  {
   "cell_type": "code",
   "execution_count": 18,
   "metadata": {},
   "outputs": [
    {
     "data": {
      "text/plain": [
       "Counter({'Benign': 50000,\n",
       "         'Bot': 50000,\n",
       "         'Brute Force -Web': 50000,\n",
       "         'Brute Force -XSS': 50000,\n",
       "         'DDOS attack-HOIC': 50000,\n",
       "         'DDOS attack-LOIC-UDP': 50000,\n",
       "         'DDoS attacks-LOIC-HTTP': 50000,\n",
       "         'DoS attacks-GoldenEye': 50000,\n",
       "         'DoS attacks-Hulk': 50000,\n",
       "         'DoS attacks-Slowloris': 50000,\n",
       "         'Infilteration': 50000,\n",
       "         'SQL Injection': 50000,\n",
       "         'SSH-Bruteforce': 50000,\n",
       "         'FTP-BruteForce': 29045})"
      ]
     },
     "execution_count": 18,
     "metadata": {},
     "output_type": "execute_result"
    }
   ],
   "source": [
    "from collections import Counter\n",
    "Counter(y_train2)"
   ]
  },
  {
   "cell_type": "code",
   "execution_count": 19,
   "metadata": {},
   "outputs": [
    {
     "name": "stdout",
     "output_type": "stream",
     "text": [
      "Training of model took 37.44 seconds (396.75 CPU seconds)\n"
     ]
    }
   ],
   "source": [
    "from CustomFunctions import Timer\n",
    "clf = LGBMClassifier(boosting_type='gbdt', objective='multiclass', n_jobs=-1, verbose=-1,\n",
    "                     n_estimators=100, num_leaves=152, learning_rate=0.1158, max_bin=400,\n",
    "                    bagging_fraction=0.807, bagging_freq=0)\n",
    "\n",
    "#First fit the model\n",
    "t = Timer()\n",
    "t.start()\n",
    "clf.fit(X_train2, y_train2)\n",
    "t.stop(timerName='Training of model')"
   ]
  },
  {
   "cell_type": "code",
   "execution_count": 20,
   "metadata": {},
   "outputs": [
    {
     "name": "stdout",
     "output_type": "stream",
     "text": [
      "(1499016, 69)\n"
     ]
    }
   ],
   "source": [
    "from sklearn.calibration import LabelEncoder\n",
    "\n",
    "#Load all testing data\n",
    "X_test = pd.read_csv('Inputs\\\\train_test_sets\\\\testing.csv')\n",
    "y_test = X_test.pop('Label')\n",
    "\n",
    "#drop features that are not required\n",
    "features_to_drop = ['Protocol', 'Dst Port Class']\n",
    "X_test.drop(axis=1, columns=features_to_drop, inplace=True)\n",
    "print(X_test.shape)"
   ]
  },
  {
   "cell_type": "code",
   "execution_count": 21,
   "metadata": {},
   "outputs": [
    {
     "name": "stdout",
     "output_type": "stream",
     "text": [
      "Executing model over the first 1000 rows of Testing Set took 0.03 seconds (0.22 CPU seconds)\n",
      "Executing model over the entire Testing set (1499016) rows took 20.73 seconds (226.33 CPU seconds)\n"
     ]
    }
   ],
   "source": [
    "t = Timer()\n",
    "t.start()\n",
    "pred_test_1000 = clf.predict(X_test.head(1000))\n",
    "t.stop('Executing model over the first 1000 rows of Testing Set')\n",
    "\n",
    "#Obtain predictions on the full Training dataset\n",
    "pred_train = clf.predict(X_train)\n",
    "\n",
    "#Obtain predictions on the full Testing dataset\n",
    "t.start()\n",
    "pred_test = clf.predict(X_test)\n",
    "t.stop('Executing model over the entire Testing set (' + str(len(X_test)) + ') rows')"
   ]
  },
  {
   "cell_type": "code",
   "execution_count": 22,
   "metadata": {},
   "outputs": [
    {
     "name": "stdout",
     "output_type": "stream",
     "text": [
      "\n",
      "Training Set: Size:  (999856, 69)\n",
      "Training Set: F2 score:  0.9840619191985214\n",
      "Training Set: Matthews Correlation Coefficient:  0.9805502036903598\n",
      "\n",
      "Testing Set: Size:  (1499016, 69)\n",
      "Testing Set: F2 score:  0.9118099411597325\n",
      "Testing Set: Matthews Correlation Coefficient:  0.910612495630042\n",
      "\n",
      "\n",
      "                        precision  recall  f2-score  support\n",
      "Benign                       1.00    0.89      0.91  847,255\n",
      "Bot                          1.00    1.00      1.00   71,548\n",
      "Brute Force -Web             0.33    0.91      0.67      153\n",
      "Brute Force -XSS             0.77    0.95      0.91       57\n",
      "DDOS attack-HOIC             1.00    1.00      1.00  171,503\n",
      "DDOS attack-LOIC-UDP         0.71    0.99      0.92      432\n",
      "DDoS attacks-LOIC-HTTP       1.00    1.00      1.00  144,048\n",
      "DoS attacks-GoldenEye        1.00    1.00      1.00   10,377\n",
      "DoS attacks-Hulk             1.00    1.00      1.00  115,478\n",
      "DoS attacks-Slowloris        0.99    1.00      1.00    2,747\n",
      "FTP-BruteForce               1.00    1.00      1.00   48,339\n",
      "Infilteration                0.29    0.94      0.64   40,160\n",
      "SQL Injection                0.49    0.82      0.72       22\n",
      "SSH-Bruteforce               1.00    1.00      1.00   46,897\n",
      "\n",
      "Matthews Correlation Coefficient:  0.91\n",
      "F2 Macro score:  91.2%\n"
     ]
    },
    {
     "data": {
      "image/png": "[encoded data removed]",
      "text/plain": [
       "<Figure size 1000x1000 with 2 Axes>"
      ]
     },
     "metadata": {},
     "output_type": "display_data"
    }
   ],
   "source": [
    "from sklearn.metrics import ConfusionMatrixDisplay, matthews_corrcoef\n",
    "from sklearn.metrics import confusion_matrix\n",
    "import matplotlib.pyplot as plt\n",
    "from CustomFunctions import classification_report_IDS\n",
    "\n",
    "#Output results\n",
    "print('\\nTraining Set: Size: ', X_train.shape)\n",
    "print('Training Set: F2 score: ', fbeta_score(y_train, pred_train, beta=2, average='macro'))\n",
    "print('Training Set: Matthews Correlation Coefficient: ', matthews_corrcoef(y_train, pred_train))\n",
    "\n",
    "print('\\nTesting Set: Size: ', X_test.shape)\n",
    "print('Testing Set: F2 score: ', fbeta_score(y_test, pred_test, beta=2, average='macro'))\n",
    "print('Testing Set: Matthews Correlation Coefficient: ', matthews_corrcoef(y_test, pred_test))\n",
    "print('\\n')\n",
    "\n",
    "#Plot the confusion matrix\n",
    "c = ConfusionMatrixDisplay(confusion_matrix(y_test, pred_test), display_labels=clf.classes_)\n",
    "fig, ax = plt.subplots(figsize=(10,10))\n",
    "c.plot(ax = ax, cmap='Blues', xticks_rotation='vertical')\n",
    "\n",
    "## Classification Report\n",
    "classification_report_IDS(y_test, pred_test)"
   ]
  },
  {
   "cell_type": "code",
   "execution_count": 23,
   "metadata": {},
   "outputs": [
    {
     "data": {
      "text/plain": [
       "{'boosting_type': 'gbdt',\n",
       " 'class_weight': None,\n",
       " 'colsample_bytree': 1.0,\n",
       " 'importance_type': 'split',\n",
       " 'learning_rate': 0.1158,\n",
       " 'max_depth': -1,\n",
       " 'min_child_samples': 20,\n",
       " 'min_child_weight': 0.001,\n",
       " 'min_split_gain': 0.0,\n",
       " 'n_estimators': 100,\n",
       " 'n_jobs': -1,\n",
       " 'num_leaves': 152,\n",
       " 'objective': 'multiclass',\n",
       " 'random_state': None,\n",
       " 'reg_alpha': 0.0,\n",
       " 'reg_lambda': 0.0,\n",
       " 'subsample': 1.0,\n",
       " 'subsample_for_bin': 200000,\n",
       " 'subsample_freq': 0,\n",
       " 'verbose': -1,\n",
       " 'max_bin': 400,\n",
       " 'bagging_fraction': 0.807,\n",
       " 'bagging_freq': 0}"
      ]
     },
     "execution_count": 23,
     "metadata": {},
     "output_type": "execute_result"
    }
   ],
   "source": [
    "clf.get_params()"
   ]
  },
  {
   "cell_type": "markdown",
   "metadata": {},
   "source": [
    "## What is the optimum Training Set size?"
   ]
  },
  {
   "cell_type": "code",
   "execution_count": 28,
   "metadata": {},
   "outputs": [
    {
     "data": {
      "text/plain": [
       "Counter({'DoS attacks-Hulk': 164962,\n",
       "         'DDOS attack-HOIC': 156456,\n",
       "         'DDoS attacks-LOIC-HTTP': 151250,\n",
       "         'Bot': 129813,\n",
       "         'Benign': 121965,\n",
       "         'Infilteration': 120476,\n",
       "         'SSH-Bruteforce': 84521,\n",
       "         'DoS attacks-GoldenEye': 31131,\n",
       "         'FTP-BruteForce': 29045,\n",
       "         'DoS attacks-Slowloris': 8243,\n",
       "         'DDOS attack-LOIC-UDP': 1298,\n",
       "         'Brute Force -Web': 458,\n",
       "         'Brute Force -XSS': 173,\n",
       "         'SQL Injection': 65})"
      ]
     },
     "execution_count": 28,
     "metadata": {},
     "output_type": "execute_result"
    }
   ],
   "source": [
    "from collections import Counter\n",
    "Counter(y_train)"
   ]
  },
  {
   "cell_type": "code",
   "execution_count": 29,
   "metadata": {},
   "outputs": [
    {
     "name": "stdout",
     "output_type": "stream",
     "text": [
      "939045\n"
     ]
    },
    {
     "data": {
      "text/plain": [
       "Label\n",
       "Benign                    70000\n",
       "Bot                       70000\n",
       "Brute Force -Web          70000\n",
       "Brute Force -XSS          70000\n",
       "DDOS attack-HOIC          70000\n",
       "DDOS attack-LOIC-UDP      70000\n",
       "DDoS attacks-LOIC-HTTP    70000\n",
       "DoS attacks-GoldenEye     70000\n",
       "DoS attacks-Hulk          70000\n",
       "DoS attacks-Slowloris     70000\n",
       "Infilteration             70000\n",
       "SQL Injection             70000\n",
       "SSH-Bruteforce            70000\n",
       "FTP-BruteForce            29045\n",
       "Name: count, dtype: int64"
      ]
     },
     "execution_count": 29,
     "metadata": {},
     "output_type": "execute_result"
    }
   ],
   "source": [
    "from imblearn.under_sampling import RandomUnderSampler\n",
    "from imblearn.over_sampling import BorderlineSMOTE\n",
    "from imblearn.pipeline import Pipeline\n",
    "\n",
    "#Define the over sampling and under sampling dictionaries\n",
    "dictUnderSample = { 'DoS attacks-Hulk': 70000,\n",
    "                    'DDOS attack-HOIC': 70000,\n",
    "                    'DDoS attacks-LOIC-HTTP': 70000,\n",
    "                    'Bot': 70000,\n",
    "                    'Benign': 70000,\n",
    "                    'Infilteration': 70000,\n",
    "                    'SSH-Bruteforce': 70000,\n",
    "                    'DoS attacks-GoldenEye': 31131,\n",
    "                    'FTP-BruteForce': 29045,\n",
    "                    'DoS attacks-Slowloris': 8243,\n",
    "                    'DDOS attack-LOIC-UDP': 1298,\n",
    "                    'Brute Force -Web': 458,\n",
    "                    'Brute Force -XSS': 173,\n",
    "                    'SQL Injection': 65}\n",
    "\n",
    "dictOverSample = {  'DoS attacks-Hulk': 70000,\n",
    "                    'DDOS attack-HOIC': 70000,\n",
    "                    'DDoS attacks-LOIC-HTTP': 70000,\n",
    "                    'Bot': 70000,\n",
    "                    'Benign': 70000,\n",
    "                    'Infilteration': 70000,\n",
    "                    'SSH-Bruteforce': 70000,\n",
    "                    'DoS attacks-GoldenEye': 70000,\n",
    "                    'FTP-BruteForce': 70000,\n",
    "                    'DoS attacks-Slowloris': 70000,\n",
    "                    'DDOS attack-LOIC-UDP': 70000,\n",
    "                    'Brute Force -Web': 70000,\n",
    "                    'Brute Force -XSS': 70000,\n",
    "                    'SQL Injection': 70000}\n",
    "\n",
    "#Pipeline for undersampling and then oversampling\n",
    "pipeline = Pipeline(steps=[ ('underSample', RandomUnderSampler(random_state=0, sampling_strategy=dictUnderSample)),\n",
    "                            ('overSample', BorderlineSMOTE(random_state=0, sampling_strategy=dictOverSample)) ])\n",
    "\n",
    "#Run the pipeline\n",
    "X_train2, y_train2 = pipeline.fit_resample(X_train, y_train)\n",
    "print(len(X_train2))\n",
    "y_train2.value_counts()"
   ]
  },
  {
   "cell_type": "code",
   "execution_count": 30,
   "metadata": {},
   "outputs": [
    {
     "data": {
      "image/png": "[encoded data removed]",
      "text/plain": [
       "<Figure size 1000x500 with 1 Axes>"
      ]
     },
     "metadata": {},
     "output_type": "display_data"
    }
   ],
   "source": [
    "from plot_Validation_and_LearningCurves import plot_learning_curve, plot_validation_curve\n",
    "from sklearn import metrics\n",
    "from sklearn.metrics import make_scorer, fbeta_score\n",
    "from sklearn.model_selection import StratifiedKFold\n",
    "\n",
    "cv = StratifiedKFold(n_splits=7)\n",
    "f2_scorer = make_scorer(fbeta_score, beta=2, average='macro')\n",
    "plot_learning_curve(clf, X=X_train2, y=y_train2, cv=cv, scoring=f2_scorer, train_sizes=np.linspace(0.1, 1.0, 5));\n"
   ]
  },
  {
   "cell_type": "markdown",
   "metadata": {},
   "source": [
    "**Observations:** The above Learning Curve seems to be ideal as both the training and validation curves are producing very high F2 scores while the gap between them is only 1% - indicating there is relatively low overfitting. Also, a good training set size would be around 500,000"
   ]
  }
 ],
 "metadata": {
  "kernelspec": {
   "display_name": "base",
   "language": "python",
   "name": "python3"
  },
  "language_info": {
   "codemirror_mode": {
    "name": "ipython",
    "version": 3
   },
   "file_extension": ".py",
   "mimetype": "text/x-python",
   "name": "python",
   "nbconvert_exporter": "python",
   "pygments_lexer": "ipython3",
   "version": "3.11.5"
  }
 },
 "nbformat": 4,
 "nbformat_minor": 2
}
