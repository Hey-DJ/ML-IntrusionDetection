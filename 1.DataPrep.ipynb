{
 "cells": [
  {
   "cell_type": "markdown",
   "metadata": {},
   "source": [
    "# Preparation of Source Data\n",
    "The “CSE-CIC-IDS2018” dataset consists of 10 CSV data files of total size 6.4GB. Each file captures a full day's worth of network events captured through 80 features. Majority of these files are approx 350kB of size, but one of the files is 4GB of size. \n",
    "This notebook will carry out the following \"staging\" activities of this data:\n",
    "1. Read each file\n",
    "2. Remove duplicated headers in the file\n",
    "3. Drop the Timestamp column (as it is of no use for our ML modelling work)\n",
    "4. Examine the distribution of the target classes. If the file is significantly heavy towards the \"Benign\" class (which is the case with majority of the data files), remove upto 90% of the samples after those \"Benign\" class samples are stratified across these 2 key features: Protocol and Dst Port. This will ensure that we continue to retain \"Benign\" class representation under each of those 2 key features even after this data truncation exercise\n",
    "5. Save the remaining data under the filename suffix of \"-staged\"\n"
   ]
  },
  {
   "cell_type": "code",
   "execution_count": 99,
   "metadata": {},
   "outputs": [],
   "source": [
    "import numpy as np\n",
    "import pandas as pd\n",
    "import csv\n",
    "\n",
    "#First load contents of the file into an array. Do any cleaning of the data along the way\n",
    "filename_in = 'inputs\\\\03-02-2018.csv'\n",
    "lines=[]\n",
    "header=[]\n",
    "with open(filename_in, 'r') as in_file:\n",
    "    reader = csv.reader(in_file)\n",
    "    i = 0\n",
    "    for row in reader:\n",
    "        #Load the header row\n",
    "        if i == 0:\n",
    "            header.append(row)\n",
    "            i = i + 1\n",
    "        else:\n",
    "            #Load all other rows while filtering out any re-occurances of the header row\n",
    "            if str(row).startswith(\"['Dst Port',\")==False:\n",
    "                lines.append(row)\n",
    "\n",
    "#Now load that data into a DataFrame\n",
    "events = pd.DataFrame(lines, columns=header[0])"
   ]
  },
  {
   "cell_type": "code",
   "execution_count": 91,
   "metadata": {},
   "outputs": [
    {
     "data": {
      "text/plain": [
       "(331100, 80)"
      ]
     },
     "execution_count": 91,
     "metadata": {},
     "output_type": "execute_result"
    }
   ],
   "source": [
    "events.shape"
   ]
  },
  {
   "cell_type": "code",
   "execution_count": 3,
   "metadata": {},
   "outputs": [
    {
     "data": {
      "text/html": [
       "<div>\n",
       "<style scoped>\n",
       "    .dataframe tbody tr th:only-of-type {\n",
       "        vertical-align: middle;\n",
       "    }\n",
       "\n",
       "    .dataframe tbody tr th {\n",
       "        vertical-align: top;\n",
       "    }\n",
       "\n",
       "    .dataframe thead th {\n",
       "        text-align: right;\n",
       "    }\n",
       "</style>\n",
       "<table border=\"1\" class=\"dataframe\">\n",
       "  <thead>\n",
       "    <tr style=\"text-align: right;\">\n",
       "      <th></th>\n",
       "      <th>Dst Port</th>\n",
       "      <th>Protocol</th>\n",
       "      <th>Timestamp</th>\n",
       "      <th>Flow Duration</th>\n",
       "      <th>Tot Fwd Pkts</th>\n",
       "      <th>Tot Bwd Pkts</th>\n",
       "      <th>TotLen Fwd Pkts</th>\n",
       "      <th>TotLen Bwd Pkts</th>\n",
       "      <th>Fwd Pkt Len Max</th>\n",
       "      <th>Fwd Pkt Len Min</th>\n",
       "      <th>...</th>\n",
       "      <th>Fwd Seg Size Min</th>\n",
       "      <th>Active Mean</th>\n",
       "      <th>Active Std</th>\n",
       "      <th>Active Max</th>\n",
       "      <th>Active Min</th>\n",
       "      <th>Idle Mean</th>\n",
       "      <th>Idle Std</th>\n",
       "      <th>Idle Max</th>\n",
       "      <th>Idle Min</th>\n",
       "      <th>Label</th>\n",
       "    </tr>\n",
       "  </thead>\n",
       "  <tbody>\n",
       "    <tr>\n",
       "      <th>0</th>\n",
       "      <td>0</td>\n",
       "      <td>0</td>\n",
       "      <td>14/02/2018 08:31:01</td>\n",
       "      <td>112641719</td>\n",
       "      <td>3</td>\n",
       "      <td>0</td>\n",
       "      <td>0</td>\n",
       "      <td>0</td>\n",
       "      <td>0</td>\n",
       "      <td>0</td>\n",
       "      <td>...</td>\n",
       "      <td>0</td>\n",
       "      <td>0</td>\n",
       "      <td>0</td>\n",
       "      <td>0</td>\n",
       "      <td>0</td>\n",
       "      <td>56320859.5</td>\n",
       "      <td>139.3000358938</td>\n",
       "      <td>56320958</td>\n",
       "      <td>56320761</td>\n",
       "      <td>Benign</td>\n",
       "    </tr>\n",
       "    <tr>\n",
       "      <th>1</th>\n",
       "      <td>0</td>\n",
       "      <td>0</td>\n",
       "      <td>14/02/2018 08:33:50</td>\n",
       "      <td>112641466</td>\n",
       "      <td>3</td>\n",
       "      <td>0</td>\n",
       "      <td>0</td>\n",
       "      <td>0</td>\n",
       "      <td>0</td>\n",
       "      <td>0</td>\n",
       "      <td>...</td>\n",
       "      <td>0</td>\n",
       "      <td>0</td>\n",
       "      <td>0</td>\n",
       "      <td>0</td>\n",
       "      <td>0</td>\n",
       "      <td>56320733</td>\n",
       "      <td>114.5512985522</td>\n",
       "      <td>56320814</td>\n",
       "      <td>56320652</td>\n",
       "      <td>Benign</td>\n",
       "    </tr>\n",
       "    <tr>\n",
       "      <th>2</th>\n",
       "      <td>0</td>\n",
       "      <td>0</td>\n",
       "      <td>14/02/2018 08:36:39</td>\n",
       "      <td>112638623</td>\n",
       "      <td>3</td>\n",
       "      <td>0</td>\n",
       "      <td>0</td>\n",
       "      <td>0</td>\n",
       "      <td>0</td>\n",
       "      <td>0</td>\n",
       "      <td>...</td>\n",
       "      <td>0</td>\n",
       "      <td>0</td>\n",
       "      <td>0</td>\n",
       "      <td>0</td>\n",
       "      <td>0</td>\n",
       "      <td>56319311.5</td>\n",
       "      <td>301.9345955667</td>\n",
       "      <td>56319525</td>\n",
       "      <td>56319098</td>\n",
       "      <td>Benign</td>\n",
       "    </tr>\n",
       "  </tbody>\n",
       "</table>\n",
       "<p>3 rows × 80 columns</p>\n",
       "</div>"
      ],
      "text/plain": [
       "  Dst Port Protocol            Timestamp Flow Duration Tot Fwd Pkts  \\\n",
       "0        0        0  14/02/2018 08:31:01     112641719            3   \n",
       "1        0        0  14/02/2018 08:33:50     112641466            3   \n",
       "2        0        0  14/02/2018 08:36:39     112638623            3   \n",
       "\n",
       "  Tot Bwd Pkts TotLen Fwd Pkts TotLen Bwd Pkts Fwd Pkt Len Max  \\\n",
       "0            0               0               0               0   \n",
       "1            0               0               0               0   \n",
       "2            0               0               0               0   \n",
       "\n",
       "  Fwd Pkt Len Min  ... Fwd Seg Size Min Active Mean Active Std Active Max  \\\n",
       "0               0  ...                0           0          0          0   \n",
       "1               0  ...                0           0          0          0   \n",
       "2               0  ...                0           0          0          0   \n",
       "\n",
       "  Active Min   Idle Mean        Idle Std  Idle Max  Idle Min   Label  \n",
       "0          0  56320859.5  139.3000358938  56320958  56320761  Benign  \n",
       "1          0    56320733  114.5512985522  56320814  56320652  Benign  \n",
       "2          0  56319311.5  301.9345955667  56319525  56319098  Benign  \n",
       "\n",
       "[3 rows x 80 columns]"
      ]
     },
     "execution_count": 3,
     "metadata": {},
     "output_type": "execute_result"
    }
   ],
   "source": [
    "events.head(3)"
   ]
  },
  {
   "cell_type": "code",
   "execution_count": 100,
   "metadata": {},
   "outputs": [],
   "source": [
    "#Drop columns that are not needed\n",
    "events.drop(columns='Timestamp', inplace=True)\n"
   ]
  },
  {
   "cell_type": "markdown",
   "metadata": {},
   "source": [
    "## Remove excessive 'Benign' samples"
   ]
  },
  {
   "cell_type": "code",
   "execution_count": 102,
   "metadata": {},
   "outputs": [
    {
     "data": {
      "text/html": [
       "<style type=\"text/css\">\n",
       "</style>\n",
       "<table id=\"T_cd46b\">\n",
       "  <thead>\n",
       "    <tr>\n",
       "      <th class=\"blank level0\" >&nbsp;</th>\n",
       "      <th id=\"T_cd46b_level0_col0\" class=\"col_heading level0 col0\" >Freq</th>\n",
       "      <th id=\"T_cd46b_level0_col1\" class=\"col_heading level0 col1\" >Percentage</th>\n",
       "    </tr>\n",
       "    <tr>\n",
       "      <th class=\"index_name level0\" >Label</th>\n",
       "      <th class=\"blank col0\" >&nbsp;</th>\n",
       "      <th class=\"blank col1\" >&nbsp;</th>\n",
       "    </tr>\n",
       "  </thead>\n",
       "  <tbody>\n",
       "    <tr>\n",
       "      <th id=\"T_cd46b_level0_row0\" class=\"row_heading level0 row0\" >Benign</th>\n",
       "      <td id=\"T_cd46b_row0_col0\" class=\"data row0 col0\" >762384</td>\n",
       "      <td id=\"T_cd46b_row0_col1\" class=\"data row0 col1\" >72.707%</td>\n",
       "    </tr>\n",
       "    <tr>\n",
       "      <th id=\"T_cd46b_level0_row1\" class=\"row_heading level0 row1\" >Bot</th>\n",
       "      <td id=\"T_cd46b_row1_col0\" class=\"data row1 col0\" >286191</td>\n",
       "      <td id=\"T_cd46b_row1_col1\" class=\"data row1 col1\" >27.293%</td>\n",
       "    </tr>\n",
       "  </tbody>\n",
       "</table>\n"
      ],
      "text/plain": [
       "<pandas.io.formats.style.Styler at 0x1c5acedcd50>"
      ]
     },
     "execution_count": 102,
     "metadata": {},
     "output_type": "execute_result"
    }
   ],
   "source": [
    "#First assess whether we have a highly unbalanced dataset\n",
    "dist = pd.DataFrame([])\n",
    "dist['Freq'] = events['Label'].value_counts()\n",
    "dist['Percentage'] = events['Label'].value_counts(normalize=True)\n",
    "dist.style.format(\"{:.3%}\", subset=['Percentage'])"
   ]
  },
  {
   "cell_type": "code",
   "execution_count": 103,
   "metadata": {},
   "outputs": [],
   "source": [
    "#If we have a highly unbalanced dataset, try to remove some samples - with stratification under the Protocol and Dst Port fields \n",
    "summary = events[ events['Label'] == 'Benign'][['Protocol', 'Dst Port']]\n",
    "rowCount = pd.Series(summary.value_counts(), name = 'RecordCount')\n",
    "mask = rowCount > 200   #Create a mask where any stratified row counts below 400 will be left untouched"
   ]
  },
  {
   "cell_type": "code",
   "execution_count": 104,
   "metadata": {},
   "outputs": [
    {
     "data": {
      "text/plain": [
       "Protocol  Dst Port\n",
       "17        53          192898\n",
       "6         3389        175694\n",
       "          80          110411\n",
       "          443          94826\n",
       "          445          41706\n",
       "                       ...  \n",
       "          30143            1\n",
       "          30146            1\n",
       "          30147            1\n",
       "          30150            1\n",
       "          45250            1\n",
       "Name: RecordCount, Length: 37334, dtype: int64"
      ]
     },
     "execution_count": 104,
     "metadata": {},
     "output_type": "execute_result"
    }
   ],
   "source": [
    "rowCount"
   ]
  },
  {
   "cell_type": "code",
   "execution_count": 105,
   "metadata": {},
   "outputs": [
    {
     "data": {
      "text/plain": [
       "Protocol  Dst Port\n",
       "17        53          192898\n",
       "6         3389        175694\n",
       "          80          110411\n",
       "          443          94826\n",
       "          445          41706\n",
       "0         0            13124\n",
       "17        5355          4578\n",
       "          3389          1754\n",
       "          137           1641\n",
       "          67             707\n",
       "          123            461\n",
       "          138            442\n",
       "6         22             324\n",
       "Name: RecordCount, dtype: int64"
      ]
     },
     "execution_count": 105,
     "metadata": {},
     "output_type": "execute_result"
    }
   ],
   "source": [
    "rowCount[mask]"
   ]
  },
  {
   "cell_type": "code",
   "execution_count": 106,
   "metadata": {},
   "outputs": [
    {
     "name": "stdout",
     "output_type": "stream",
     "text": [
      "About to delete 154318 out of 192898 within the stratified sample of Protocol = 17 and Dst Port = 53\n",
      "About to delete 140555 out of 175694 within the stratified sample of Protocol = 6 and Dst Port = 3389\n",
      "About to delete 88328 out of 110411 within the stratified sample of Protocol = 6 and Dst Port = 80\n",
      "About to delete 75860 out of 94826 within the stratified sample of Protocol = 6 and Dst Port = 443\n",
      "About to delete 33364 out of 41706 within the stratified sample of Protocol = 6 and Dst Port = 445\n",
      "About to delete 10499 out of 13124 within the stratified sample of Protocol = 0 and Dst Port = 0\n",
      "About to delete 3662 out of 4578 within the stratified sample of Protocol = 17 and Dst Port = 5355\n",
      "About to delete 1403 out of 1754 within the stratified sample of Protocol = 17 and Dst Port = 3389\n",
      "About to delete 1312 out of 1641 within the stratified sample of Protocol = 17 and Dst Port = 137\n",
      "About to delete 565 out of 707 within the stratified sample of Protocol = 17 and Dst Port = 67\n",
      "About to delete 368 out of 461 within the stratified sample of Protocol = 17 and Dst Port = 123\n",
      "About to delete 353 out of 442 within the stratified sample of Protocol = 17 and Dst Port = 138\n",
      "Total samples deleted: 510587\n"
     ]
    }
   ],
   "source": [
    "deleteCount = 0\n",
    "for (protocol, dstport) in rowCount[mask].index.to_list():\n",
    "    totRows = rowCount[mask][(protocol, dstport)]\n",
    "    totRowsToDelete = int(0.8 * totRows)\n",
    "    if (totRows > 400 and totRowsToDelete > 0):\n",
    "        rowsToDrop = events[ (events['Label'] == 'Benign') & (events['Protocol'] == protocol) & (events['Dst Port'] == dstport)].sample(totRowsToDelete).index\n",
    "        print(f'About to delete {totRowsToDelete} out of {totRows} within the stratified sample of Protocol = {protocol} and Dst Port = {dstport}')\n",
    "        events.drop(labels=rowsToDrop, axis=0, inplace=True)\n",
    "        deleteCount = deleteCount + totRowsToDelete\n",
    "\n",
    "print(f'Total samples deleted: {deleteCount}')"
   ]
  },
  {
   "cell_type": "code",
   "execution_count": 107,
   "metadata": {},
   "outputs": [
    {
     "data": {
      "text/html": [
       "<style type=\"text/css\">\n",
       "</style>\n",
       "<table id=\"T_de3cf\">\n",
       "  <thead>\n",
       "    <tr>\n",
       "      <th class=\"blank level0\" >&nbsp;</th>\n",
       "      <th id=\"T_de3cf_level0_col0\" class=\"col_heading level0 col0\" >Freq</th>\n",
       "      <th id=\"T_de3cf_level0_col1\" class=\"col_heading level0 col1\" >Percentage</th>\n",
       "    </tr>\n",
       "    <tr>\n",
       "      <th class=\"index_name level0\" >Label</th>\n",
       "      <th class=\"blank col0\" >&nbsp;</th>\n",
       "      <th class=\"blank col1\" >&nbsp;</th>\n",
       "    </tr>\n",
       "  </thead>\n",
       "  <tbody>\n",
       "    <tr>\n",
       "      <th id=\"T_de3cf_level0_row0\" class=\"row_heading level0 row0\" >Bot</th>\n",
       "      <td id=\"T_de3cf_row0_col0\" class=\"data row0 col0\" >286191</td>\n",
       "      <td id=\"T_de3cf_row0_col1\" class=\"data row0 col1\" >53.197%</td>\n",
       "    </tr>\n",
       "    <tr>\n",
       "      <th id=\"T_de3cf_level0_row1\" class=\"row_heading level0 row1\" >Benign</th>\n",
       "      <td id=\"T_de3cf_row1_col0\" class=\"data row1 col0\" >251797</td>\n",
       "      <td id=\"T_de3cf_row1_col1\" class=\"data row1 col1\" >46.803%</td>\n",
       "    </tr>\n",
       "  </tbody>\n",
       "</table>\n"
      ],
      "text/plain": [
       "<pandas.io.formats.style.Styler at 0x1c62e785a10>"
      ]
     },
     "execution_count": 107,
     "metadata": {},
     "output_type": "execute_result"
    }
   ],
   "source": [
    "#Reassess how unbalanced the dataset is now\n",
    "dist = pd.DataFrame([])\n",
    "dist['Freq'] = events['Label'].value_counts()\n",
    "dist['Percentage'] = events['Label'].value_counts(normalize=True)\n",
    "dist.style.format(\"{:.3%}\", subset=['Percentage'])"
   ]
  },
  {
   "cell_type": "code",
   "execution_count": 108,
   "metadata": {},
   "outputs": [],
   "source": [
    "#Output to a file that can be saved as a \"staged\" file\n",
    "filename_out = filename_in.removesuffix('.csv') + '-staged.csv'\n",
    "events.to_csv(filename_out, index=False)"
   ]
  }
 ],
 "metadata": {
  "kernelspec": {
   "display_name": "Python 3.11.5 ('base')",
   "language": "python",
   "name": "python3"
  },
  "language_info": {
   "codemirror_mode": {
    "name": "ipython",
    "version": 3
   },
   "file_extension": ".py",
   "mimetype": "text/x-python",
   "name": "python",
   "nbconvert_exporter": "python",
   "pygments_lexer": "ipython3",
   "version": "3.11.5"
  },
  "orig_nbformat": 4,
  "vscode": {
   "interpreter": {
    "hash": "7bdf58ae2132328fd05d55c11186eeb927f8c81460f4d98145ba726205facf50"
   }
  }
 },
 "nbformat": 4,
 "nbformat_minor": 2
}
